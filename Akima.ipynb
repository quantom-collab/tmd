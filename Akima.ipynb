{
 "cells": [
  {
   "cell_type": "code",
   "execution_count": 1,
   "id": "7d2fff81-6127-459b-a722-071e7b441be5",
   "metadata": {},
   "outputs": [],
   "source": [
    "import torch\n",
    "\n",
    "\n",
    "#--matplotlib\n",
    "import matplotlib\n",
    "from matplotlib.lines import Line2D\n",
    "matplotlib.rcParams['text.latex.preamble']=r\"\\usepackage{amsmath}\"\n",
    "matplotlib.rc('text',usetex=True)\n",
    "import pylab as py\n",
    "from matplotlib import colors\n",
    "import matplotlib.gridspec as gridspec\n"
   ]
  },
  {
   "cell_type": "code",
   "execution_count": 3,
   "id": "d34af0e5-72be-40cd-8f1b-fc3d534039b7",
   "metadata": {},
   "outputs": [],
   "source": [
    "torch.set_default_dtype(torch.float64)"
   ]
  },
  {
   "cell_type": "code",
   "execution_count": 31,
   "id": "49d8ec92-03b7-495b-b035-cfb637440847",
   "metadata": {},
   "outputs": [],
   "source": [
    "# Xs = 10**torch.linspace(-3,-1.001,100)\n",
    "# Xs = torch.cat((Xs,torch.linspace(0.1,1,100)))\n",
    "Xs = torch.linspace(0,1,100)\n",
    "Vs = torch.exp(-Xs)"
   ]
  },
  {
   "cell_type": "code",
   "execution_count": 32,
   "id": "f03363c0-f238-49bb-87c9-f74422af1ff3",
   "metadata": {},
   "outputs": [
    {
     "data": {
      "text/plain": [
       "(tensor([0.0000, 0.0101, 0.0202, 0.0303, 0.0404, 0.0505, 0.0606, 0.0707, 0.0808,\n",
       "         0.0909, 0.1010, 0.1111, 0.1212, 0.1313, 0.1414, 0.1515, 0.1616, 0.1717,\n",
       "         0.1818, 0.1919, 0.2020, 0.2121, 0.2222, 0.2323, 0.2424, 0.2525, 0.2626,\n",
       "         0.2727, 0.2828, 0.2929, 0.3030, 0.3131, 0.3232, 0.3333, 0.3434, 0.3535,\n",
       "         0.3636, 0.3737, 0.3838, 0.3939, 0.4040, 0.4141, 0.4242, 0.4343, 0.4444,\n",
       "         0.4545, 0.4646, 0.4747, 0.4848, 0.4949, 0.5051, 0.5152, 0.5253, 0.5354,\n",
       "         0.5455, 0.5556, 0.5657, 0.5758, 0.5859, 0.5960, 0.6061, 0.6162, 0.6263,\n",
       "         0.6364, 0.6465, 0.6566, 0.6667, 0.6768, 0.6869, 0.6970, 0.7071, 0.7172,\n",
       "         0.7273, 0.7374, 0.7475, 0.7576, 0.7677, 0.7778, 0.7879, 0.7980, 0.8081,\n",
       "         0.8182, 0.8283, 0.8384, 0.8485, 0.8586, 0.8687, 0.8788, 0.8889, 0.8990,\n",
       "         0.9091, 0.9192, 0.9293, 0.9394, 0.9495, 0.9596, 0.9697, 0.9798, 0.9899,\n",
       "         1.0000]),\n",
       " tensor([1.0000, 0.9899, 0.9800, 0.9702, 0.9604, 0.9507, 0.9412, 0.9317, 0.9224,\n",
       "         0.9131, 0.9039, 0.8948, 0.8858, 0.8769, 0.8681, 0.8594, 0.8508, 0.8422,\n",
       "         0.8338, 0.8254, 0.8171, 0.8089, 0.8007, 0.7927, 0.7847, 0.7768, 0.7690,\n",
       "         0.7613, 0.7536, 0.7461, 0.7386, 0.7312, 0.7238, 0.7165, 0.7093, 0.7022,\n",
       "         0.6951, 0.6882, 0.6812, 0.6744, 0.6676, 0.6609, 0.6543, 0.6477, 0.6412,\n",
       "         0.6347, 0.6284, 0.6220, 0.6158, 0.6096, 0.6035, 0.5974, 0.5914, 0.5855,\n",
       "         0.5796, 0.5738, 0.5680, 0.5623, 0.5566, 0.5510, 0.5455, 0.5400, 0.5346,\n",
       "         0.5292, 0.5239, 0.5186, 0.5134, 0.5083, 0.5031, 0.4981, 0.4931, 0.4881,\n",
       "         0.4832, 0.4784, 0.4736, 0.4688, 0.4641, 0.4594, 0.4548, 0.4502, 0.4457,\n",
       "         0.4412, 0.4368, 0.4324, 0.4281, 0.4238, 0.4195, 0.4153, 0.4111, 0.4070,\n",
       "         0.4029, 0.3988, 0.3948, 0.3909, 0.3869, 0.3830, 0.3792, 0.3754, 0.3716,\n",
       "         0.3679]))"
      ]
     },
     "execution_count": 32,
     "metadata": {},
     "output_type": "execute_result"
    }
   ],
   "source": [
    "Xs,Vs"
   ]
  },
  {
   "cell_type": "code",
   "execution_count": 33,
   "id": "d4e4395d-6ee3-4c71-9496-6ae2ee86bc6a",
   "metadata": {},
   "outputs": [],
   "source": [
    "deltas = torch.empty(Xs.shape[0]+3)"
   ]
  },
  {
   "cell_type": "code",
   "execution_count": 34,
   "id": "f01c3083-5048-4778-a9ad-ec731fa6d234",
   "metadata": {},
   "outputs": [
    {
     "data": {
      "text/plain": [
       "torch.Size([103])"
      ]
     },
     "execution_count": 34,
     "metadata": {},
     "output_type": "execute_result"
    }
   ],
   "source": [
    "deltas.shape"
   ]
  },
  {
   "cell_type": "code",
   "execution_count": 35,
   "id": "44204808-c77b-4a0b-bbd3-e1bcb8765d74",
   "metadata": {},
   "outputs": [],
   "source": [
    "deltas[2:-2] = (Vs[1:] - Vs[:-1]) / (Xs[1:] - Xs[:-1])"
   ]
  },
  {
   "cell_type": "code",
   "execution_count": 36,
   "id": "af248093-89df-4f5c-afa1-b10564e4c4b2",
   "metadata": {},
   "outputs": [
    {
     "data": {
      "text/plain": [
       "tensor([2.1220e-314,  0.0000e+00, -9.9497e-01, -9.8497e-01, -9.7507e-01,\n",
       "        -9.6527e-01, -9.5557e-01, -9.4596e-01, -9.3646e-01, -9.2704e-01,\n",
       "        -9.1773e-01, -9.0850e-01, -8.9937e-01, -8.9034e-01, -8.8139e-01,\n",
       "        -8.7253e-01, -8.6376e-01, -8.5508e-01, -8.4649e-01, -8.3798e-01,\n",
       "        -8.2956e-01, -8.2122e-01, -8.1297e-01, -8.0480e-01, -7.9671e-01,\n",
       "        -7.8870e-01, -7.8077e-01, -7.7293e-01, -7.6516e-01, -7.5747e-01,\n",
       "        -7.4986e-01, -7.4232e-01, -7.3486e-01, -7.2747e-01, -7.2016e-01,\n",
       "        -7.1292e-01, -7.0576e-01, -6.9867e-01, -6.9164e-01, -6.8469e-01,\n",
       "        -6.7781e-01, -6.7100e-01, -6.6426e-01, -6.5758e-01, -6.5097e-01,\n",
       "        -6.4443e-01, -6.3795e-01, -6.3154e-01, -6.2519e-01, -6.1891e-01,\n",
       "        -6.1269e-01, -6.0653e-01, -6.0044e-01, -5.9440e-01, -5.8843e-01,\n",
       "        -5.8252e-01, -5.7666e-01, -5.7087e-01, -5.6513e-01, -5.5945e-01,\n",
       "        -5.5383e-01, -5.4826e-01, -5.4275e-01, -5.3730e-01, -5.3190e-01,\n",
       "        -5.2655e-01, -5.2126e-01, -5.1602e-01, -5.1083e-01, -5.0570e-01,\n",
       "        -5.0062e-01, -4.9559e-01, -4.9060e-01, -4.8567e-01, -4.8079e-01,\n",
       "        -4.7596e-01, -4.7118e-01, -4.6644e-01, -4.6175e-01, -4.5711e-01,\n",
       "        -4.5252e-01, -4.4797e-01, -4.4347e-01, -4.3901e-01, -4.3460e-01,\n",
       "        -4.3023e-01, -4.2591e-01, -4.2163e-01, -4.1739e-01, -4.1320e-01,\n",
       "        -4.0904e-01, -4.0493e-01, -4.0086e-01, -3.9683e-01, -3.9285e-01,\n",
       "        -3.8890e-01, -3.8499e-01, -3.8112e-01, -3.7729e-01, -3.7350e-01,\n",
       "        -3.6974e-01, 6.9255e-310, 2.3342e-313])"
      ]
     },
     "execution_count": 36,
     "metadata": {},
     "output_type": "execute_result"
    }
   ],
   "source": [
    "deltas"
   ]
  },
  {
   "cell_type": "code",
   "execution_count": 37,
   "id": "843bf587-72ca-43e7-aa4e-6fb8751b7259",
   "metadata": {},
   "outputs": [],
   "source": [
    "deltas[1] = 2 * deltas[2] - deltas[3]\n",
    "deltas[0] = 2 * deltas[1] - deltas[2]\n",
    "\n",
    "deltas[-2] = 2 * deltas[-3] - deltas[-4]\n",
    "deltas[-1] = 2 * deltas[-2] - deltas[-3]"
   ]
  },
  {
   "cell_type": "code",
   "execution_count": 38,
   "id": "ad70f684-39a1-4469-b8e8-796d4c545b1c",
   "metadata": {},
   "outputs": [
    {
     "data": {
      "text/plain": [
       "tensor([-1.0150, -1.0050, -0.9950, -0.9850, -0.9751, -0.9653, -0.9556, -0.9460,\n",
       "        -0.9365, -0.9270, -0.9177, -0.9085, -0.8994, -0.8903, -0.8814, -0.8725,\n",
       "        -0.8638, -0.8551, -0.8465, -0.8380, -0.8296, -0.8212, -0.8130, -0.8048,\n",
       "        -0.7967, -0.7887, -0.7808, -0.7729, -0.7652, -0.7575, -0.7499, -0.7423,\n",
       "        -0.7349, -0.7275, -0.7202, -0.7129, -0.7058, -0.6987, -0.6916, -0.6847,\n",
       "        -0.6778, -0.6710, -0.6643, -0.6576, -0.6510, -0.6444, -0.6380, -0.6315,\n",
       "        -0.6252, -0.6189, -0.6127, -0.6065, -0.6004, -0.5944, -0.5884, -0.5825,\n",
       "        -0.5767, -0.5709, -0.5651, -0.5594, -0.5538, -0.5483, -0.5427, -0.5373,\n",
       "        -0.5319, -0.5265, -0.5213, -0.5160, -0.5108, -0.5057, -0.5006, -0.4956,\n",
       "        -0.4906, -0.4857, -0.4808, -0.4760, -0.4712, -0.4664, -0.4618, -0.4571,\n",
       "        -0.4525, -0.4480, -0.4435, -0.4390, -0.4346, -0.4302, -0.4259, -0.4216,\n",
       "        -0.4174, -0.4132, -0.4090, -0.4049, -0.4009, -0.3968, -0.3928, -0.3889,\n",
       "        -0.3850, -0.3811, -0.3773, -0.3735, -0.3697, -0.3660, -0.3622])"
      ]
     },
     "execution_count": 38,
     "metadata": {},
     "output_type": "execute_result"
    }
   ],
   "source": [
    "deltas"
   ]
  },
  {
   "cell_type": "code",
   "execution_count": 39,
   "id": "be433dc3-7fff-4758-ad21-e0eee93551e6",
   "metadata": {},
   "outputs": [
    {
     "data": {
      "text/plain": [
       "tensor(0.0038)"
      ]
     },
     "execution_count": 39,
     "metadata": {},
     "output_type": "execute_result"
    }
   ],
   "source": [
    "deltas[-3] - deltas[-4]"
   ]
  },
  {
   "cell_type": "code",
   "execution_count": 40,
   "id": "c590bda8-cd9d-4c2d-a26a-e648ed5cf23c",
   "metadata": {},
   "outputs": [
    {
     "data": {
      "text/plain": [
       "torch.Size([100])"
      ]
     },
     "execution_count": 40,
     "metadata": {},
     "output_type": "execute_result"
    }
   ],
   "source": [
    "w1s = torch.abs(deltas[3:]-deltas[2:-1])\n",
    "w1s.shape"
   ]
  },
  {
   "cell_type": "code",
   "execution_count": 41,
   "id": "eabb1324-695d-48de-a38e-fef8f0eff230",
   "metadata": {},
   "outputs": [
    {
     "data": {
      "text/plain": [
       "tensor(0.0038)"
      ]
     },
     "execution_count": 41,
     "metadata": {},
     "output_type": "execute_result"
    }
   ],
   "source": [
    "w1s[-1]"
   ]
  },
  {
   "cell_type": "code",
   "execution_count": 42,
   "id": "e232459f-8783-4609-b409-a41012ffc64a",
   "metadata": {},
   "outputs": [],
   "source": [
    "w2s = torch.abs(deltas[1:-2] - deltas[:-3])"
   ]
  },
  {
   "cell_type": "code",
   "execution_count": 43,
   "id": "2409b3fd-0210-4c10-ab27-8daa5b43a9e2",
   "metadata": {},
   "outputs": [
    {
     "data": {
      "text/plain": [
       "torch.Size([100])"
      ]
     },
     "execution_count": 43,
     "metadata": {},
     "output_type": "execute_result"
    }
   ],
   "source": [
    "w2s.shape"
   ]
  },
  {
   "cell_type": "code",
   "execution_count": 44,
   "id": "fb232528-1704-4414-a525-dccff8637c9d",
   "metadata": {},
   "outputs": [
    {
     "data": {
      "text/plain": [
       "tensor(0.0038)"
      ]
     },
     "execution_count": 44,
     "metadata": {},
     "output_type": "execute_result"
    }
   ],
   "source": [
    "w2s[-1]"
   ]
  },
  {
   "cell_type": "code",
   "execution_count": 45,
   "id": "c3f50d6a-44f1-4420-b231-bdca45b65558",
   "metadata": {},
   "outputs": [
    {
     "data": {
      "text/plain": [
       "tensor([-1.0150, -1.0050, -0.9950, -0.9850, -0.9751, -0.9653, -0.9556, -0.9460,\n",
       "        -0.9365, -0.9270, -0.9177, -0.9085, -0.8994, -0.8903, -0.8814, -0.8725,\n",
       "        -0.8638, -0.8551, -0.8465, -0.8380, -0.8296, -0.8212, -0.8130, -0.8048,\n",
       "        -0.7967, -0.7887, -0.7808, -0.7729, -0.7652, -0.7575, -0.7499, -0.7423,\n",
       "        -0.7349, -0.7275, -0.7202, -0.7129, -0.7058, -0.6987, -0.6916, -0.6847,\n",
       "        -0.6778, -0.6710, -0.6643, -0.6576, -0.6510, -0.6444, -0.6380, -0.6315,\n",
       "        -0.6252, -0.6189, -0.6127, -0.6065, -0.6004, -0.5944, -0.5884, -0.5825,\n",
       "        -0.5767, -0.5709, -0.5651, -0.5594, -0.5538, -0.5483, -0.5427, -0.5373,\n",
       "        -0.5319, -0.5265, -0.5213, -0.5160, -0.5108, -0.5057, -0.5006, -0.4956,\n",
       "        -0.4906, -0.4857, -0.4808, -0.4760, -0.4712, -0.4664, -0.4618, -0.4571,\n",
       "        -0.4525, -0.4480, -0.4435, -0.4390, -0.4346, -0.4302, -0.4259, -0.4216,\n",
       "        -0.4174, -0.4132, -0.4090, -0.4049, -0.4009, -0.3968, -0.3928, -0.3889,\n",
       "        -0.3850, -0.3811, -0.3773, -0.3735, -0.3697, -0.3660])"
      ]
     },
     "execution_count": 45,
     "metadata": {},
     "output_type": "execute_result"
    }
   ],
   "source": [
    "deltas[:-1]"
   ]
  },
  {
   "cell_type": "code",
   "execution_count": 46,
   "id": "05a84280-6b84-42f2-8123-22b30a32c9b1",
   "metadata": {},
   "outputs": [
    {
     "data": {
      "text/plain": [
       "tensor(0.0100)"
      ]
     },
     "execution_count": 46,
     "metadata": {},
     "output_type": "execute_result"
    }
   ],
   "source": [
    "w1s[0]"
   ]
  },
  {
   "cell_type": "code",
   "execution_count": 47,
   "id": "bddd806b-6912-4633-8743-130003f6470d",
   "metadata": {},
   "outputs": [
    {
     "data": {
      "text/plain": [
       "tensor(0.0100)"
      ]
     },
     "execution_count": 47,
     "metadata": {},
     "output_type": "execute_result"
    }
   ],
   "source": [
    "deltas[2]-deltas[1]"
   ]
  },
  {
   "cell_type": "code",
   "execution_count": 48,
   "id": "d11b3c93-1443-4afc-9eb6-486109c24ad6",
   "metadata": {},
   "outputs": [],
   "source": [
    "ds = w1s / (w1s + w2s) * deltas[1:-2] + w2s / (w1s + w2s) * deltas[2:-1]"
   ]
  },
  {
   "cell_type": "code",
   "execution_count": 49,
   "id": "38cf5ef1-78bb-41b9-b649-75ca7235715f",
   "metadata": {},
   "outputs": [
    {
     "data": {
      "text/plain": [
       "tensor([-1.0000, -0.9899, -0.9800, -0.9701, -0.9604, -0.9507, -0.9412, -0.9317,\n",
       "        -0.9223, -0.9131, -0.9039, -0.8948, -0.8858, -0.8769, -0.8681, -0.8594,\n",
       "        -0.8507, -0.8422, -0.8337, -0.8253, -0.8171, -0.8088, -0.8007, -0.7927,\n",
       "        -0.7847, -0.7768, -0.7690, -0.7613, -0.7536, -0.7460, -0.7386, -0.7311,\n",
       "        -0.7238, -0.7165, -0.7093, -0.7022, -0.6951, -0.6881, -0.6812, -0.6744,\n",
       "        -0.6676, -0.6609, -0.6542, -0.6477, -0.6412, -0.6347, -0.6283, -0.6220,\n",
       "        -0.6158, -0.6096, -0.6035, -0.5974, -0.5914, -0.5854, -0.5796, -0.5737,\n",
       "        -0.5680, -0.5623, -0.5566, -0.5510, -0.5455, -0.5400, -0.5346, -0.5292,\n",
       "        -0.5239, -0.5186, -0.5134, -0.5082, -0.5031, -0.4981, -0.4931, -0.4881,\n",
       "        -0.4832, -0.4784, -0.4735, -0.4688, -0.4641, -0.4594, -0.4548, -0.4502,\n",
       "        -0.4457, -0.4412, -0.4368, -0.4324, -0.4280, -0.4237, -0.4195, -0.4153,\n",
       "        -0.4111, -0.4070, -0.4029, -0.3988, -0.3948, -0.3909, -0.3869, -0.3830,\n",
       "        -0.3792, -0.3754, -0.3716, -0.3679])"
      ]
     },
     "execution_count": 49,
     "metadata": {},
     "output_type": "execute_result"
    }
   ],
   "source": [
    "ds"
   ]
  },
  {
   "cell_type": "code",
   "execution_count": 50,
   "id": "805755a5-be4d-47ae-a897-4c040a403f85",
   "metadata": {},
   "outputs": [],
   "source": [
    "hs = Xs[1:] - Xs[:-1]"
   ]
  },
  {
   "cell_type": "code",
   "execution_count": 51,
   "id": "b222a667-f7ed-458f-bf12-7193e8e48970",
   "metadata": {},
   "outputs": [],
   "source": [
    "def locate(x,Xs):\n",
    "    \"\"\"\n",
    "    x is a tensor of points to interpolate to\n",
    "    Xs is the grid\n",
    "\n",
    "    We should add a failsafe here for x outside the range\n",
    "    \"\"\"\n",
    "    idx = torch.clamp(torch.searchsorted(Xs,x) - 1, 0, Xs.size(0)-2)\n",
    "    return idx,idx+1"
   ]
  },
  {
   "cell_type": "code",
   "execution_count": 52,
   "id": "d85082e2-ccaf-4e9e-befe-87c738a53699",
   "metadata": {},
   "outputs": [],
   "source": [
    "ks,ksp1 = locate(torch.tensor([1.1]),Xs)#.shape"
   ]
  },
  {
   "cell_type": "code",
   "execution_count": 53,
   "id": "a5441267-925e-4ab2-b2e5-b763c27d1c23",
   "metadata": {},
   "outputs": [
    {
     "data": {
      "text/plain": [
       "(tensor([0.9899]), tensor([1.]))"
      ]
     },
     "execution_count": 53,
     "metadata": {},
     "output_type": "execute_result"
    }
   ],
   "source": [
    "Xs[ks],Xs[ksp1]"
   ]
  },
  {
   "cell_type": "code",
   "execution_count": 54,
   "id": "84c8718a-b58a-4e59-9c2e-40b0871a0bfa",
   "metadata": {},
   "outputs": [],
   "source": [
    "def P(x,Xs,vs,ds):\n",
    "    k,kp1 = locate(x,Xs)\n",
    "    \n",
    "    s = x - Xs[k]\n",
    "    h = Xs[kp1] - Xs[k]\n",
    "    \n",
    "    term1 = (3 * h * s**2 - 2 * s**3) / h**3 * vs[kp1]\n",
    "    term2 = (h**3 - 3 * h * s**2 + 2 * s**3) / h**3 * vs[k]\n",
    "    term3 = (s**2 * (s - h)) / h**2 * ds[kp1]\n",
    "    term4 = (s * (s - h)**2) / h**2 * ds[k]\n",
    "    return term1 + term2 + term3 + term4"
   ]
  },
  {
   "cell_type": "code",
   "execution_count": 55,
   "id": "8fbad2a3-bac9-4941-a136-50b15b34a561",
   "metadata": {},
   "outputs": [],
   "source": [
    "\n",
    "xrand = 1e-3 + torch.rand(25) * (1 - 1e-3)\n",
    "\n",
    "int_vals = P(xrand,Xs,Vs,ds)\n",
    "tru_vals = torch.exp(-xrand)\n",
    "\n"
   ]
  },
  {
   "cell_type": "code",
   "execution_count": 56,
   "id": "a12fbd7d-c091-4561-b354-2d86285f038f",
   "metadata": {},
   "outputs": [
    {
     "data": {
      "text/plain": [
       "Text(0, 0.5, '$\\\\rm rel.~diff.$')"
      ]
     },
     "execution_count": 56,
     "metadata": {},
     "output_type": "execute_result"
    },
    {
     "data": {
      "image/png": "[encoded data removed]",
      "text/plain": [
       "<Figure size 1600x600 with 2 Axes>"
      ]
     },
     "metadata": {},
     "output_type": "display_data"
    }
   ],
   "source": [
    "nrows,ncols = 1,2\n",
    "py.figure(figsize=(8*ncols,6*nrows))\n",
    "\n",
    "ax=py.subplot(nrows,ncols,1)\n",
    "ax.plot(Xs,Vs,'gray',label=r'$\\rm grid$')\n",
    "ax.plot(xrand,int_vals,'r*',label=r'$\\rm interpolated$')\n",
    "ax.plot(xrand,tru_vals,'bs',label=r'$\\rm true$')\n",
    "\n",
    "ax.tick_params(direction='in',labelsize=18)\n",
    "ax.legend(fontsize=18)\n",
    "ax.set_xlabel(r'$x$',size=30)\n",
    "ax.set_ylabel(r'$e^{-x}$',size=30)\n",
    "\n",
    "ax=py.subplot(nrows,ncols,2)\n",
    "ax.plot(xrand,torch.abs(int_vals-tru_vals)/tru_vals,'r.')\n",
    "# ax.semilogx()\n",
    "# ax.semilogy()\n",
    "\n",
    "ax.tick_params(direction='in',labelsize=18)\n",
    "ax.set_xlabel(r'$x$',size=30)\n",
    "ax.set_ylabel(r'$\\rm rel.~diff.$',size=30)"
   ]
  },
  {
   "cell_type": "code",
   "execution_count": 57,
   "id": "a7c7bf15-7ebb-46c5-85d3-c8a1244c96ab",
   "metadata": {},
   "outputs": [
    {
     "data": {
      "text/plain": [
       "tensor([0.0729])"
      ]
     },
     "execution_count": 57,
     "metadata": {},
     "output_type": "execute_result"
    }
   ],
   "source": [
    "xrand[torch.max(torch.abs(int_vals-tru_vals)/tru_vals) == (torch.abs(int_vals-tru_vals)/tru_vals)]"
   ]
  },
  {
   "cell_type": "code",
   "execution_count": null,
   "id": "64247724-5a94-46b3-b7ae-10377b69b1c3",
   "metadata": {},
   "outputs": [],
   "source": []
  },
  {
   "cell_type": "code",
   "execution_count": null,
   "id": "787e8b6f-198a-46e3-bb5c-20cd96befd58",
   "metadata": {},
   "outputs": [],
   "source": []
  },
  {
   "cell_type": "code",
   "execution_count": null,
   "id": "7711c28a-045c-4c6e-b41c-14bac44b917b",
   "metadata": {},
   "outputs": [],
   "source": []
  },
  {
   "cell_type": "code",
   "execution_count": null,
   "id": "6c4d2858-ca53-4016-8e18-4c47d034bfc0",
   "metadata": {},
   "outputs": [],
   "source": []
  }
 ],
 "metadata": {
  "kernelspec": {
   "display_name": "Python 3 (ipykernel)",
   "language": "python",
   "name": "python3"
  },
  "language_info": {
   "codemirror_mode": {
    "name": "ipython",
    "version": 3
   },
   "file_extension": ".py",
   "mimetype": "text/x-python",
   "name": "python",
   "nbconvert_exporter": "python",
   "pygments_lexer": "ipython3",
   "version": "3.11.9"
  }
 },
 "nbformat": 4,
 "nbformat_minor": 5
}
