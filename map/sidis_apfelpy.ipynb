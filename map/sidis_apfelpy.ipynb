{
 "cells": [
  {
   "cell_type": "markdown",
   "metadata": {},
   "source": [
    "# SIDIS cross section in TMD formalism\n",
    "\n",
    "In this jupyter notebook we will calculate the SIDIS cross section in the TMD formalism for the process \n",
    "$\\begin{equation}l(p_1) + N(p_2) \\rightarrow l'(p_3) + h(p_4) + X\\end{equation}$ where $l$ is a lepton, $N$ is a nucleon (proton), $h$ is a detected hadron and $X$ is an undetected hadronic system (i.e., the remnants). "
   ]
  },
  {
   "cell_type": "markdown",
   "metadata": {},
   "source": [
    "## Import required standard libraries"
   ]
  },
  {
   "cell_type": "code",
   "execution_count": 35,
   "metadata": {},
   "outputs": [
    {
     "name": "stdout",
     "output_type": "stream",
     "text": [
      "3.10.15\n"
     ]
    }
   ],
   "source": [
    "## -- Remember to use python@3.10 every time in the notebook LHAPDF is called and actively used.\n",
    "## -- For just TMDs one can use the most recent python3 version.\n",
    "\n",
    "# Print the python version\n",
    "from platform import python_version\n",
    "print(python_version())"
   ]
  },
  {
   "cell_type": "code",
   "execution_count": 36,
   "metadata": {},
   "outputs": [],
   "source": [
    "# Import required libraries\n",
    "import os\n",
    "import yaml\n",
    "import torch\n",
    "import numpy as np\n",
    "import lhapdf as lh\n",
    "import matplotlib.pyplot as plt\n",
    "\n",
    "# Import apfelpy\n",
    "import apfelpy as ap\n",
    "\n",
    "# Import costum modules\n",
    "import modules.utilities as utl"
   ]
  },
  {
   "cell_type": "markdown",
   "metadata": {},
   "source": [
    "## configuration map\n",
    "\n",
    "The equivalent of the  `config.yaml` file in NangaParbat. This is the place where we define the inputs for the calculation, e.g., the perturbative order, the PDF set, the FF set, the scales, the kinematics grids, etc."
   ]
  },
  {
   "cell_type": "code",
   "execution_count": 37,
   "metadata": {},
   "outputs": [],
   "source": [
    "# Configuration\n",
    "config = {\n",
    "    # Perturbative order of the computation. 0: LL, 1: NLL, 2: NNLL, 3:\n",
    "    # NNNLL, -1: NLL', -2: NNLL'\n",
    "    \"PerturbativeOrder\": 3,\n",
    "\n",
    "    # Collinear PDF set and member to be used\n",
    "    \"pdfset\": {\"name\": \"MMHT2014nnlo68cl\", \"member\": 0},\n",
    "\n",
    "    # Collinear FF set and member to be used\n",
    "    \"ffset\": {\"name\": \"MAPFF10NNLOPIp\", \"member\": 0},\n",
    "\n",
    "    # Initial and final scale-variation factors around mub = 2e^{-gamma_E}\n",
    "    # / b and Q, respectively.\n",
    "    \"TMDscales\": {\"Ci\": 1.0, \"Cf\": 1.0},\n",
    "\n",
    "    # Reference value of alpha_em.\n",
    "    \"alphaem\": {\"aref\": 0.0072973525693, \"Qref\": 91.1876, \"run\": True},\n",
    "\n",
    "    # Parameters of the x-space subgrids on which collinear PDFs are\n",
    "    # tabulated. The first element is the number of points, the second is\n",
    "    # the initial x point and the third is the interpolation degree.\n",
    "    \"xgridpdf\": [[100, 1e-4, 3], [60, 1e-1, 3], [50, 6e-1, 3], [50, 8e-1, 3]],\n",
    "\n",
    "    # Parameters of the x-space subgrids on which collinear FFs are\n",
    "    # tabulated.\n",
    "    \"xgridff\": [[60, 1e-2, 3], [50, 6e-1, 3], [50, 8e-1, 3]],\n",
    "    \n",
    "    # Number of points, interpolation degree, and integration accuracy of\n",
    "    # the grid in Q.\n",
    "    \"Qgrid\": {\"n\" : 100, \"InterDegree\": 3, \"eps\" : 1e-3},\n",
    "\n",
    "    # Number of points, interpolation degree, and integration accuracy of\n",
    "    # the grid in Bjorken x (used for SIDIS).\n",
    "    \"xbgrid\": {\"n\" : 100, \"InterDegree\": 2, \"eps\" : 1e-3},\n",
    "\n",
    "    # Number of points, interpolation degree, and integration accuracy of\n",
    "    # the grid in z (used for SIDIS).\n",
    "    \"zgrid\": {\"n\" : 100, \"InterDegree\": 2, \"eps\" : 1e-3},\n",
    "}\n"
   ]
  },
  {
   "cell_type": "markdown",
   "metadata": {},
   "source": [
    "### Set qT cut"
   ]
  },
  {
   "cell_type": "code",
   "execution_count": 38,
   "metadata": {},
   "outputs": [],
   "source": [
    "qToQcut = 0.3"
   ]
  },
  {
   "cell_type": "markdown",
   "metadata": {},
   "source": [
    "### output folder"
   ]
  },
  {
   "cell_type": "code",
   "execution_count": 39,
   "metadata": {},
   "outputs": [],
   "source": [
    "# Output folder -- DO NOT CREATE IT FOR NOW\n",
    "\n",
    "output_folder = \"_output\"\n",
    "# os.makedirs(output_folder, exist_ok=True)\n",
    "# print(f\"Creating folder '{output_folder}' to store the output.\")"
   ]
  },
  {
   "cell_type": "markdown",
   "metadata": {},
   "source": [
    "## PDF set"
   ]
  },
  {
   "cell_type": "markdown",
   "metadata": {},
   "source": [
    "### Initialize PDF set"
   ]
  },
  {
   "cell_type": "code",
   "execution_count": 40,
   "metadata": {},
   "outputs": [
    {
     "name": "stdout",
     "output_type": "stream",
     "text": [
      "LHAPDF 6.5.4 loading /opt/homebrew/Cellar/lhapdf/6.5.4/share/LHAPDF/MMHT2014nnlo68cl/MMHT2014nnlo68cl_0000.dat\n",
      "MMHT2014nnlo68cl PDF set, member #0, version 3; LHAPDF ID = 25300\n"
     ]
    }
   ],
   "source": [
    "# PDF set configuration\n",
    "pdf_name = config[\"pdfset\"][\"name\"]\n",
    "pdf_member = config[\"pdfset\"][\"member\"]\n",
    "\n",
    "# Initalise LHAPDF set\n",
    "pdf = lh.mkPDF(pdf_name, pdf_member)\n",
    "\n",
    "# To find out which methods and attributes are available on the pdf object\n",
    "# (from the lhapdf python interface), you can use the dir() function:\n",
    "# print(dir(pdf))"
   ]
  },
  {
   "cell_type": "markdown",
   "metadata": {},
   "source": [
    "### Rotation in QCD evolution basis\n",
    "\n",
    "Rotate the PDF set from the physics basis into the QCD evolution basis. The QCD evolution basis is where evolution happens with apfelxx. The physical basis refers to PDFs defined for each quark flavor, while the QCD evolution basis uses combinations of these PDFs that simplify the evolution equations by diagonalizing certain terms."
   ]
  },
  {
   "cell_type": "markdown",
   "metadata": {},
   "source": [
    "**Code Explanation**\n",
    "\n",
    "A lambda function in Python is a small anonymous function defined with the lambda keyword. It can take any number of arguments but can only have one expression.\n",
    "\n",
    "- `RotPDFs`: The name of the lambda function.\n",
    "- `lambda x, mu`: Defines an anonymous function (lambda) that takes two arguments, x and mu.\n",
    "- `ap.PhysToQCDEv(pdf.xfxQ(x, mu))`: The expression that the lambda function returns. It computes the PDFs at x and mu using pdf.xfxQ(x, mu) and then rotates them into the QCD evolution basis with ap.PhysToQCDEv.\n",
    "\n",
    "If we rewrite the lambda function as a regular function for clarity, it would look like:\n",
    "\n",
    "```python\n",
    "def RotPDFs(x, mu):\n",
    "    return ap.PhysToQCDEv(pdf.xfxQ(x, mu))\n",
    "```\n"
   ]
  },
  {
   "cell_type": "code",
   "execution_count": 41,
   "metadata": {},
   "outputs": [],
   "source": [
    "# Rotate PDF set into the QCD evolution basis\n",
    "RotPDFs = lambda x, mu: ap.PhysToQCDEv(pdf.xfxQ(x, mu))"
   ]
  },
  {
   "cell_type": "markdown",
   "metadata": {},
   "source": [
    "### Quark Thresholds and Masses\n",
    "\n",
    "Get the heavy-quark thresholds from the PDF LHAPDF set. The equivalent of\n",
    "    \n",
    "```cpp\n",
    "// Get heavy-quark thresholds from the PDF LHAPDF set\n",
    "std::vector<double> Thresholds;\n",
    "for (auto const& v : distpdf->flavors())\n",
    "if (v > 0 && v < 7)\n",
    "  Thresholds.push_back(distpdf->quarkThreshold(v));\n",
    "```\n",
    "\n",
    "In the python example in `apfelxx/pywrap/`, there is:\n",
    "\n",
    "```python\n",
    "# Vectors of masses and thresholds\n",
    "Masses = [0, 0, 0, pdf.quarkThreshold(4), pdf.quarkThreshold(5)]\n",
    "Thresholds = [0, 0, 0, pdf.quarkThreshold(4), pdf.quarkThreshold(5)]\n",
    "```"
   ]
  },
  {
   "cell_type": "code",
   "execution_count": 42,
   "metadata": {},
   "outputs": [
    {
     "name": "stdout",
     "output_type": "stream",
     "text": [
      "Quark thresholds from the PDF set: [0.0, 0.0, 0.0, 1.4, 4.75]\n"
     ]
    }
   ],
   "source": [
    "# Get heavy-quark thresholds from the PDF LHAPDF set\n",
    "Thresholds = []\n",
    "for v in pdf.flavors():\n",
    "    if v > 0 and v < 7:\n",
    "        Thresholds.append(pdf.quarkThreshold(v))\n",
    "\n",
    "# Now Thresholds contains the thresholds for quark flavors 1 to 6\n",
    "print(\"Quark thresholds from the PDF set:\", Thresholds)\n",
    "\n",
    "# Masses of the quarks\n",
    "Masses = [0, 0, 0, pdf.quarkThreshold(4), pdf.quarkThreshold(5)]"
   ]
  },
  {
   "cell_type": "markdown",
   "metadata": {},
   "source": [
    "### apfelpy x-space grid for PDFs"
   ]
  },
  {
   "cell_type": "code",
   "execution_count": 43,
   "metadata": {
    "code_folding": [
     0
    ]
   },
   "outputs": [
    {
     "name": "stdout",
     "output_type": "stream",
     "text": [
      "Grids are the same.\n",
      "x-space grid:\n",
      "Grid: 0x1313be200\n",
      "JointGrid = 0x1313be260\n",
      "0.0001 0.000109648 0.000120226 0.000131826 0.000144544 0.000158489 0.00017378 0.000190546 0.00020893 0.000229087 0.000251189 0.000275423 0.000301995 0.000331131 0.000363078 0.000398107 0.000436516 0.00047863 0.000524807 0.00057544 0.000630957 0.000691831 0.000758578 0.000831764 0.000912011 0.001 0.00109648 0.00120226 0.00131826 0.00144544 0.00158489 0.0017378 0.00190546 0.0020893 0.00229087 0.00251189 0.00275423 0.00301995 0.00331131 0.00363078 0.00398107 0.00436516 0.0047863 0.00524807 0.0057544 0.00630957 0.00691831 0.00758578 0.00831764 0.00912011 0.01 0.0109648 0.0120226 0.0131826 0.0144544 0.0158489 0.017378 0.0190546 0.020893 0.0229087 0.0251189 0.0275423 0.0301995 0.0331131 0.0363078 0.0398107 0.0436516 0.047863 0.0524807 0.057544 0.0630957 0.0691831 0.0758578 0.0831764 0.0912011 0.1 0.104713 0.109648 0.114815 0.120226 0.125893 0.131826 0.138038 0.144544 0.151356 0.158489 0.165959 0.17378 0.18197 0.190546 0.199526 0.20893 0.218776 0.229087 0.239883 0.251189 0.263027 0.275423 0.288403 0.301995 0.316228 0.331131 0.346737 0.363078 0.380189 0.398107 0.416869 0.436516 0.457088 0.47863 0.501187 0.524807 0.549541 0.57544 0.60256 0.609537 0.616595 0.623735 0.630957 0.638263 0.645654 0.653131 0.660693 0.668344 0.676083 0.683912 0.691831 0.699842 0.707946 0.716143 0.724436 0.732825 0.74131 0.749894 0.758578 0.767361 0.776247 0.785236 0.794328 0.803526 0.808165 0.812831 0.817523 0.822243 0.82699 0.831764 0.836566 0.841395 0.846253 0.851138 0.856052 0.860994 0.865964 0.870964 0.875992 0.881049 0.886135 0.891251 0.896396 0.901571 0.906776 0.912011 0.917276 0.922571 0.927897 0.933254 0.938642 0.944061 0.949511 0.954993 0.960506 0.966051 0.971628 0.977237 0.982879 0.988553 0.99426 1 1.00577 1.01158 1.01742 \n"
     ]
    }
   ],
   "source": [
    "# Setup APFEL++ x-space grid for PDFs\n",
    "gpdf = ap.Grid([ap.SubGrid(*subgrids) for subgrids in config[\"xgridpdf\"]])\n",
    "\n",
    "# Check\n",
    "gxb = ap.Grid([ap.SubGrid(100, 1e-4, 3), ap.SubGrid(60,1e-1,3), ap.SubGrid(50,6e-1,3), ap.SubGrid(50,8e-1,3)])\n",
    "if gpdf == gxb:\n",
    "    print(\"Grids are the same.\")\n",
    "else:\n",
    "    print(\"Grids are different.\")\n",
    "\n",
    "print(\"x-space grid:\")\n",
    "# help(ap.Grid)\n",
    "# print(dir(g))\n",
    "gpdf.Print()"
   ]
  },
  {
   "cell_type": "markdown",
   "metadata": {},
   "source": [
    "### Perturbative order\n"
   ]
  },
  {
   "cell_type": "code",
   "execution_count": 44,
   "metadata": {},
   "outputs": [],
   "source": [
    "PerturbativeOrder = config[\"PerturbativeOrder\"]"
   ]
  },
  {
   "cell_type": "markdown",
   "metadata": {},
   "source": [
    "## AlphaS\n",
    "\n",
    "Get the strong coupling constant $\\alpha_s$ from the PDF LHAPDF set. The equivalent of the following C++ code, which is used in NangaParbat.\n",
    "\n",
    "```cpp\n",
    "// Alpha_s (from PDFs). Get it from the LHAPDF set and tabulate it.\n",
    "  const auto Alphas = [&] (double const& mu) -> double{ return distpdf->alphasQ(mu); };\n",
    "  const apfel::TabulateObject<double> TabAlphas {[&] (double const& mu) -> double{return distpdf->alphasQ(mu); },\n",
    "                                                100, distpdf->qMin() * 0.9, distpdf->qMax(), 3, Thresholds};\n",
    "```\n",
    "\n",
    "Note that the C++ code in NangaParbat uses the LHAPDF's alphasQ(mu) function for the running coupling $\\alpha_s(\\mu)$, and then tabulating it with `TabulateObject`.\n",
    "The equivalent of this C++ implementation is implemented below in this notebook. Pros:\n",
    "\n",
    "- Ensures that $\\alpha_s(\\mu)$ used in your calculations exactly matches that from the PDF set.\n",
    "- Avoids discrepancies due to differences in perturbative orders, thresholds, or initial conditions.\n",
    "- Mimics the C++ code where `alphasQ(mu)` from `LHAPDF` is directly used.\n",
    "\n",
    "**Alternative python implementation that uses `APFEL++`'s internal `AlphaQCD` class to compute the running coupling $\\alpha_s(\\mu)$:**\n",
    "In the python example in `apfelxx/pywrap/`, there is:\n",
    "\n",
    "```python\n",
    "# Get perturbative order from LHAPDF set\n",
    "PerturbativeOrder = pdf.orderQCD\n",
    "\n",
    "# Running coupling\n",
    "Alphas = ap.AlphaQCD(\n",
    "    pdf.alphasQ(ap.constants.ZMass),  # Alpha_s at reference scale\n",
    "    ap.constants.ZMass,               # Reference scale (Z boson mass)\n",
    "    Thresholds,                       # Quark mass thresholds\n",
    "    PerturbativeOrder                 # Perturbative order\n",
    ")\n",
    "TabAlphas = ap.TabulateObject(a, 100, 0.9, 1001, 3)\n",
    "```\n",
    "\n",
    "In this python implementation, we are using `APFEL++`'s internal `AlphaQCD` class to compute the running coupling $\\alpha_s(\\mu)$, initialized with parameters from the LHAPDF set. Pros:\n",
    "\n",
    "- Leverages `APFEL++`'s internal implementation of the running coupling.\n",
    "- You can specify the perturbative order and thresholds explicitly.\n",
    "- Consistent with `APFEL++`'s evolution mechanisms.\n",
    "\n",
    "Cons:\n",
    "\n",
    "- May lead to inconsistencies if the parameters (e.g., initial $\\alpha_s$, perturbative order, thresholds) do not exactly match those used in the PDF set.\n",
    "- Requires careful synchronization of parameters to ensure consistency."
   ]
  },
  {
   "cell_type": "code",
   "execution_count": 45,
   "metadata": {},
   "outputs": [
    {
     "name": "stdout",
     "output_type": "stream",
     "text": [
      "Tabulating object... Time elapsed: 0.000016 seconds\n"
     ]
    }
   ],
   "source": [
    "# Define the Alpha_s function using the LHAPDF set\n",
    "Alphas = lambda mu: pdf.alphasQ(mu)\n",
    "\n",
    "# Create a TabulateObject for Alpha_s\n",
    "TabAlphas = ap.TabulateObject(\n",
    "    Alphas,\n",
    "    100,                         # Number of points in the mu grid\n",
    "    np.sqrt(pdf.q2Min) * 0.9,    # Minimum mu value (QMin)\n",
    "    np.sqrt(pdf.q2Max),          # Maximum mu value (QMax)\n",
    "    3,                           # Interpolation degree\n",
    "    Thresholds                   # Quark mass thresholds\n",
    ")"
   ]
  },
  {
   "cell_type": "markdown",
   "metadata": {},
   "source": [
    "## Scales"
   ]
  },
  {
   "cell_type": "code",
   "execution_count": 46,
   "metadata": {},
   "outputs": [],
   "source": [
    "# Get scale-variation factors\n",
    "Ci = config[\"TMDscales\"][\"Ci\"]\n",
    "Cf = config[\"TMDscales\"][\"Cf\"]\n",
    "\n",
    "# Initial scale\n",
    "mu0 = np.sqrt(pdf.q2Min)"
   ]
  },
  {
   "cell_type": "markdown",
   "metadata": {},
   "source": [
    "## Electromagnetic coupling squared (provided by APFEL++)\n",
    "\n",
    "The following apfelpy code is the equivalent of the C++ code in NangaParbat that computes the electromagnetic coupling squared $\\alpha_{\\text{em}}^2$.\n",
    "\n",
    "```cpp\n",
    "  const double aref = config[\"alphaem\"][\"aref\"].as<double>();\n",
    "  apfel::AlphaQED alphaem{aref, \n",
    "                          config[\"alphaem\"][\"Qref\"].as<double>(), \n",
    "                          Thresholds, \n",
    "                          {0, 0, 1.777}, \n",
    "                          0};\n",
    "  const apfel::TabulateObject<double> TabAlphaem{alphaem, 100, 0.9, 1001, 3};\n",
    " ``` "
   ]
  },
  {
   "cell_type": "code",
   "execution_count": 47,
   "metadata": {},
   "outputs": [
    {
     "name": "stdout",
     "output_type": "stream",
     "text": [
      "Tabulating object... Time elapsed: 0.000057 seconds\n"
     ]
    }
   ],
   "source": [
    "# Extract 'aref' and 'Qref' from the configuration\n",
    "aref = config[\"alphaem\"][\"aref\"]\n",
    "Qref = config[\"alphaem\"][\"Qref\"]\n",
    "\n",
    "# Lepton mass thresholds (electron, muon, tau masses in GeV).\n",
    "# Electron and muon masses are approximately zero compared to the tau mass\n",
    "LeptThresholds = [0.0, 0.0, 1.777]\n",
    "\n",
    "# Quark mass thresholds (previously defined)\n",
    "# Assuming 'Thresholds' is already defined in your code\n",
    "QuarkThresholds = Thresholds\n",
    "\n",
    "# Perturbative order (0 for Leading Order)\n",
    "pt = 0\n",
    "\n",
    "# Initialize the AlphaQED object\n",
    "alphaem = ap.AlphaQED(\n",
    "    AlphaRef=aref,\n",
    "    MuRef=Qref,\n",
    "    LeptThresholds=LeptThresholds,\n",
    "    QuarkThresholds=QuarkThresholds,\n",
    "    pt=pt\n",
    ")\n",
    "\n",
    "# Create a TabulateObject for alphaem\n",
    "TabAlphaem = ap.TabulateObject(\n",
    "    alphaem,\n",
    "    100,     # Number of points in the mu grid\n",
    "    0.9,     # Minimum mu value\n",
    "    1001,    # Maximum mu value\n",
    "    3        # Interpolation degree\n",
    ")\n"
   ]
  },
  {
   "cell_type": "markdown",
   "metadata": {},
   "source": [
    "## Evolve PDFs\n",
    "\n",
    "Construct set of distributions as a function of the scale to be tabulated. The equivalent of the following C++ code in NangaParbat.\n",
    "\n",
    "```cpp\n",
    "  const auto EvolvedPDFs = [=,&gpdf] (double const& mu) -> apfel::Set<apfel::Distribution>\n",
    "  {\n",
    "    return apfel::Set<apfel::Distribution>{apfel::EvolutionBasisQCD{apfel::NF(mu, Thresholds)}, DistributionMap(gpdf, RotPDFs, mu)};\n",
    "  };\n",
    "\n",
    "  // Tabulate collinear PDFs\n",
    "  const apfel::TabulateObject<apfel::Set<apfel::Distribution>> TabPDFs{EvolvedPDFs, 100, distpdf->qMin() * 0.9, distpdf->qMax(), 3, Thresholds};\n",
    "  const auto CollPDFs = [&] (double const& mu) -> apfel::Set<apfel::Distribution> { return TabPDFs.Evaluate(mu); };\n",
    "```"
   ]
  },
  {
   "cell_type": "code",
   "execution_count": 48,
   "metadata": {},
   "outputs": [
    {
     "name": "stdout",
     "output_type": "stream",
     "text": [
      "Initializing DglapObjects for space-like QCD unpolarised evolution... Time elapsed: 0.050525 seconds\n",
      "Tabulating object... Time elapsed: 0.078650 seconds\n"
     ]
    }
   ],
   "source": [
    "### --- This is a working code coming from ApfelPy_example.ipynb \n",
    "\n",
    "### --- Check if it does exactly the same things as the c++ lines reported above from the \n",
    "###     NangaParbat file tests/SIDISMultiplicities.cc --- ###\n",
    "\n",
    "# Initialize QCD evolution objects\n",
    "DglapObj = ap.initializers.InitializeDglapObjectsQCD(gpdf, Masses, Thresholds)\n",
    "\n",
    "# Construct the DGLAP objects\n",
    "EvolvedPDFs = ap.builders.BuildDglap(DglapObj, lambda x, mu: ap.utilities.PhysToQCDEv(pdf.xfxQ(x, mu)), mu0, pdf.orderQCD, TabAlphas.Evaluate)\n",
    "\n",
    "# Tabulate collinear PDFs\n",
    "# TabPDFs = ap.TabulateObjectSetD(EvolvedPDFs, 100, 1, 1000, 3)\n",
    "TabPDFs = ap.TabulateObjectSetD(EvolvedPDFs, 100, np.sqrt(pdf.q2Min) * 0.9, np.sqrt(pdf.q2Max), 3)\n",
    "CollPDFs = lambda mu: TabPDFs.Evaluate(mu)"
   ]
  },
  {
   "cell_type": "markdown",
   "metadata": {},
   "source": [
    "## TMDs"
   ]
  },
  {
   "cell_type": "code",
   "execution_count": 49,
   "metadata": {},
   "outputs": [],
   "source": [
    "from modules.fNP import fNP"
   ]
  },
  {
   "cell_type": "markdown",
   "metadata": {},
   "source": [
    "## Load config file for fNP"
   ]
  },
  {
   "cell_type": "code",
   "execution_count": 50,
   "metadata": {},
   "outputs": [],
   "source": [
    "# Load the configuration from a YAML file\n",
    "\n",
    "config_file_path = 'config/config.yaml'\n",
    "config = utl.load_yaml_config(config_file_path)\n"
   ]
  },
  {
   "cell_type": "code",
   "execution_count": 51,
   "metadata": {},
   "outputs": [],
   "source": [
    "# Instantiate the model.\n",
    "# The object model_fNP itself is not just a dictionary; \n",
    "# it is an nn.Module that contains an nn.ModuleDict as one of its attributes.\n",
    "model_fNP = fNP(config)\n",
    "   "
   ]
  },
  {
   "cell_type": "code",
   "execution_count": null,
   "metadata": {},
   "outputs": [],
   "source": []
  }
 ],
 "metadata": {
  "kernelspec": {
   "display_name": "Python 3",
   "language": "python",
   "name": "python3"
  },
  "language_info": {
   "codemirror_mode": {
    "name": "ipython",
    "version": 3
   },
   "file_extension": ".py",
   "mimetype": "text/x-python",
   "name": "python",
   "nbconvert_exporter": "python",
   "pygments_lexer": "ipython3",
   "version": "3.10.15"
  }
 },
 "nbformat": 4,
 "nbformat_minor": 4
}
