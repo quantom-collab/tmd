{
 "cells": [
  {
   "cell_type": "markdown",
   "metadata": {},
   "source": [
    "# SIDIS cross section in TMD formalism\n",
    "\n",
    "In this jupyter notebook we will calculate the SIDIS cross section in the TMD formalism for the process \n",
    "$\\begin{equation}l(p_1) + N(p_2) \\rightarrow l'(p_3) + h(p_4) + X\\end{equation}$ where $l$ is a lepton, $N$ is a nucleon (proton), $h$ is a detected hadron and $X$ is an undetected hadronic system (i.e., the remnants). "
   ]
  },
  {
   "cell_type": "markdown",
   "metadata": {},
   "source": [
    "## Import required standard libraries"
   ]
  },
  {
   "cell_type": "code",
   "execution_count": 1,
   "metadata": {},
   "outputs": [
    {
     "name": "stdout",
     "output_type": "stream",
     "text": [
      "3.10.17\n"
     ]
    }
   ],
   "source": [
    "## -- Remember to use python@3.10 every time in the notebook LHAPDF is called and actively used.\n",
    "## -- For just TMDs one can use the most recent python3 version.\n",
    "\n",
    "# Print the python version\n",
    "from platform import python_version\n",
    "print(python_version())"
   ]
  },
  {
   "cell_type": "code",
   "execution_count": 2,
   "metadata": {},
   "outputs": [],
   "source": [
    "# Import required libraries\n",
    "import os\n",
    "import yaml\n",
    "import torch\n",
    "import numpy as np\n",
    "import lhapdf as lh\n",
    "import matplotlib.pyplot as plt\n",
    "\n",
    "# Import apfelpy\n",
    "import apfelpy as ap\n",
    "\n",
    "# Import costum modules\n",
    "import modules.utilities as utl"
   ]
  },
  {
   "cell_type": "markdown",
   "metadata": {},
   "source": [
    "## configuration map\n",
    "\n",
    "The equivalent of the  `config.yaml` file in NangaParbat. This is the place where we define the inputs for the calculation, e.g., the perturbative order, the PDF set, the FF set, the scales, the kinematics grids, etc."
   ]
  },
  {
   "cell_type": "code",
   "execution_count": 3,
   "metadata": {},
   "outputs": [],
   "source": [
    "# Configuration\n",
    "config = {\n",
    "    # Perturbative order of the computation. 0: LL, 1: NLL, 2: NNLL, 3:\n",
    "    # NNNLL, -1: NLL', -2: NNLL'\n",
    "    \"PerturbativeOrder\": 3,\n",
    "\n",
    "    # Collinear PDF set and member to be used\n",
    "    \"pdfset\": {\"name\": \"MMHT2014nnlo68cl\", \"member\": 0},\n",
    "\n",
    "    # Collinear FF set and member to be used\n",
    "    \"ffset\": {\"name\": \"MAPFF10NNLOPIp\", \"member\": 0},\n",
    "\n",
    "    # Initial and final scale-variation factors around mub = 2e^{-gamma_E}\n",
    "    # / b and Q, respectively.\n",
    "    \"TMDscales\": {\"Ci\": 1.0, \"Cf\": 1.0},\n",
    "\n",
    "    # Reference value of alpha_em.\n",
    "    \"alphaem\": {\"aref\": 0.0072973525693, \"Qref\": 91.1876, \"run\": True},\n",
    "\n",
    "    # Parameters of the x-space subgrids on which collinear PDFs are\n",
    "    # tabulated. The first element is the number of points, the second is\n",
    "    # the initial x point and the third is the interpolation degree.\n",
    "    \"xgridpdf\": [[100, 1e-4, 3], [60, 1e-1, 3], [50, 6e-1, 3], [50, 8e-1, 3]],\n",
    "\n",
    "    # Parameters of the x-space subgrids on which collinear FFs are\n",
    "    # tabulated.\n",
    "    \"xgridff\": [[60, 1e-2, 3], [50, 6e-1, 3], [50, 8e-1, 3]],\n",
    "    \n",
    "    # Number of points, interpolation degree, and integration accuracy of\n",
    "    # the grid in Q.\n",
    "    \"Qgrid\": {\"n\" : 100, \"InterDegree\": 3, \"eps\" : 1e-3},\n",
    "\n",
    "    # Number of points, interpolation degree, and integration accuracy of\n",
    "    # the grid in Bjorken x (used for SIDIS).\n",
    "    \"xbgrid\": {\"n\" : 100, \"InterDegree\": 2, \"eps\" : 1e-3},\n",
    "\n",
    "    # Number of points, interpolation degree, and integration accuracy of\n",
    "    # the grid in z (used for SIDIS).\n",
    "    \"zgrid\": {\"n\" : 100, \"InterDegree\": 2, \"eps\" : 1e-3},\n",
    "}\n"
   ]
  },
  {
   "cell_type": "markdown",
   "metadata": {},
   "source": [
    "### Set qT cut"
   ]
  },
  {
   "cell_type": "code",
   "execution_count": 4,
   "metadata": {},
   "outputs": [],
   "source": [
    "qToQcut = 0.3"
   ]
  },
  {
   "cell_type": "markdown",
   "metadata": {},
   "source": [
    "### output folder"
   ]
  },
  {
   "cell_type": "code",
   "execution_count": 5,
   "metadata": {},
   "outputs": [],
   "source": [
    "# Output folder -- DO NOT CREATE IT FOR NOW\n",
    "\n",
    "output_folder = \"_output\"\n",
    "# os.makedirs(output_folder, exist_ok=True)\n",
    "# print(f\"Creating folder '{output_folder}' to store the output.\")"
   ]
  },
  {
   "cell_type": "markdown",
   "metadata": {},
   "source": [
    "## PDF set"
   ]
  },
  {
   "cell_type": "markdown",
   "metadata": {},
   "source": [
    "### Initialize PDF set"
   ]
  },
  {
   "cell_type": "code",
   "execution_count": 6,
   "metadata": {},
   "outputs": [
    {
     "name": "stdout",
     "output_type": "stream",
     "text": [
      "LHAPDF 6.5.4 loading /opt/homebrew/Cellar/lhapdf/6.5.4/share/LHAPDF/MMHT2014nnlo68cl/MMHT2014nnlo68cl_0000.dat\n",
      "MMHT2014nnlo68cl PDF set, member #0, version 3; LHAPDF ID = 25300\n"
     ]
    }
   ],
   "source": [
    "# PDF set configuration\n",
    "pdf_name = config[\"pdfset\"][\"name\"]\n",
    "pdf_member = config[\"pdfset\"][\"member\"]\n",
    "\n",
    "# Initalise LHAPDF set\n",
    "pdf = lh.mkPDF(pdf_name, pdf_member)  # type: ignore\n",
    "\n",
    "# To find out which methods and attributes are available on the pdf object\n",
    "# (from the lhapdf python interface), you can use the dir() function:\n",
    "# print(dir(pdf))"
   ]
  },
  {
   "cell_type": "markdown",
   "metadata": {},
   "source": [
    "### Rotation in QCD evolution basis\n",
    "\n",
    "Rotate the PDF set from the physics basis into the QCD evolution basis. The QCD evolution basis is where evolution happens with apfelxx. The physical basis refers to PDFs defined for each quark flavor, while the QCD evolution basis uses combinations of these PDFs that simplify the evolution equations by diagonalizing certain terms."
   ]
  },
  {
   "cell_type": "markdown",
   "metadata": {},
   "source": [
    "**Code Explanation**\n",
    "\n",
    "A lambda function in Python is a small anonymous function defined with the lambda keyword. It can take any number of arguments but can only have one expression.\n",
    "\n",
    "- `RotPDFs`: The name of the lambda function.\n",
    "- `lambda x, mu`: Defines an anonymous function (lambda) that takes two arguments, x and mu.\n",
    "- `ap.PhysToQCDEv(pdf.xfxQ(x, mu))`: The expression that the lambda function returns. It computes the PDFs at x and mu using pdf.xfxQ(x, mu) and then rotates them into the QCD evolution basis with ap.PhysToQCDEv.\n",
    "\n",
    "If we rewrite the lambda function as a regular function for clarity, it would look like:\n",
    "\n",
    "```python\n",
    "def RotPDFs(x, mu):\n",
    "    return ap.PhysToQCDEv(pdf.xfxQ(x, mu))\n",
    "```\n"
   ]
  },
  {
   "cell_type": "code",
   "execution_count": 7,
   "metadata": {},
   "outputs": [],
   "source": [
    "# Rotate PDF set into the QCD evolution basis\n",
    "RotPDFs = lambda x, mu: ap.PhysToQCDEv(pdf.xfxQ(x, mu))"
   ]
  },
  {
   "cell_type": "markdown",
   "metadata": {},
   "source": [
    "### Quark Thresholds and Masses\n",
    "\n",
    "Get the heavy-quark thresholds from the PDF LHAPDF set. The equivalent of\n",
    "    \n",
    "```cpp\n",
    "// Get heavy-quark thresholds from the PDF LHAPDF set\n",
    "std::vector<double> Thresholds;\n",
    "for (auto const& v : distpdf->flavors())\n",
    "if (v > 0 && v < 7)\n",
    "  Thresholds.push_back(distpdf->quarkThreshold(v));\n",
    "```\n",
    "\n",
    "In the python example in `apfelxx/pywrap/`, there is:\n",
    "\n",
    "```python\n",
    "# Vectors of masses and thresholds\n",
    "Masses = [0, 0, 0, pdf.quarkThreshold(4), pdf.quarkThreshold(5)]\n",
    "Thresholds = [0, 0, 0, pdf.quarkThreshold(4), pdf.quarkThreshold(5)]\n",
    "```"
   ]
  },
  {
   "cell_type": "code",
   "execution_count": 8,
   "metadata": {},
   "outputs": [
    {
     "name": "stdout",
     "output_type": "stream",
     "text": [
      "Quark thresholds from the PDF set: [0.0, 0.0, 0.0, 1.4, 4.75]\n"
     ]
    }
   ],
   "source": [
    "# Get heavy-quark thresholds from the PDF LHAPDF set\n",
    "Thresholds = []\n",
    "for v in pdf.flavors():\n",
    "    if v > 0 and v < 7:\n",
    "        Thresholds.append(pdf.quarkThreshold(v))\n",
    "\n",
    "# Now Thresholds contains the thresholds for quark flavors 1 to 6\n",
    "print(\"Quark thresholds from the PDF set:\", Thresholds)\n",
    "\n",
    "# Masses of the quarks\n",
    "Masses = [0, 0, 0, pdf.quarkThreshold(4), pdf.quarkThreshold(5)]"
   ]
  },
  {
   "cell_type": "markdown",
   "metadata": {},
   "source": [
    "### apfelpy x-space grid for PDFs"
   ]
  },
  {
   "cell_type": "code",
   "execution_count": 9,
   "metadata": {
    "code_folding": [
     0
    ]
   },
   "outputs": [
    {
     "name": "stdout",
     "output_type": "stream",
     "text": [
      "Grids are the same.\n",
      "x-space grid:\n",
      "Grid: 0x10f353990\n",
      "JointGrid = 0x10f3539f0\n",
      "0.0001 0.000109648 0.000120226 0.000131826 0.000144544 0.000158489 0.00017378 0.000190546 0.00020893 0.000229087 0.000251189 0.000275423 0.000301995 0.000331131 0.000363078 0.000398107 0.000436516 0.00047863 0.000524807 0.00057544 0.000630957 0.000691831 0.000758578 0.000831764 0.000912011 0.001 0.00109648 0.00120226 0.00131826 0.00144544 0.00158489 0.0017378 0.00190546 0.0020893 0.00229087 0.00251189 0.00275423 0.00301995 0.00331131 0.00363078 0.00398107 0.00436516 0.0047863 0.00524807 0.0057544 0.00630957 0.00691831 0.00758578 0.00831764 0.00912011 0.01 0.0109648 0.0120226 0.0131826 0.0144544 0.0158489 0.017378 0.0190546 0.020893 0.0229087 0.0251189 0.0275423 0.0301995 0.0331131 0.0363078 0.0398107 0.0436516 0.047863 0.0524807 0.057544 0.0630957 0.0691831 0.0758578 0.0831764 0.0912011 0.1 0.104713 0.109648 0.114815 0.120226 0.125893 0.131826 0.138038 0.144544 0.151356 0.158489 0.165959 0.17378 0.18197 0.190546 0.199526 0.20893 0.218776 0.229087 0.239883 0.251189 0.263027 0.275423 0.288403 0.301995 0.316228 0.331131 0.346737 0.363078 0.380189 0.398107 0.416869 0.436516 0.457088 0.47863 0.501187 0.524807 0.549541 0.57544 0.60256 0.609537 0.616595 0.623735 0.630957 0.638263 0.645654 0.653131 0.660693 0.668344 0.676083 0.683912 0.691831 0.699842 0.707946 0.716143 0.724436 0.732825 0.74131 0.749894 0.758578 0.767361 0.776247 0.785236 0.794328 0.803526 0.808165 0.812831 0.817523 0.822243 0.82699 0.831764 0.836566 0.841395 0.846253 0.851138 0.856052 0.860994 0.865964 0.870964 0.875992 0.881049 0.886135 0.891251 0.896396 0.901571 0.906776 0.912011 0.917276 0.922571 0.927897 0.933254 0.938642 0.944061 0.949511 0.954993 0.960506 0.966051 0.971628 0.977237 0.982879 0.988553 0.99426 1 1.00577 1.01158 1.01742 \n"
     ]
    }
   ],
   "source": [
    "# Setup APFEL++ x-space grid for PDFs\n",
    "gpdf = ap.Grid([ap.SubGrid(*subgrids) for subgrids in config[\"xgridpdf\"]])\n",
    "\n",
    "# Check\n",
    "gxb = ap.Grid([ap.SubGrid(100, 1e-4, 3), ap.SubGrid(60,1e-1,3), ap.SubGrid(50,6e-1,3), ap.SubGrid(50,8e-1,3)])\n",
    "if gpdf == gxb:\n",
    "    print(\"Grids are the same.\")\n",
    "else:\n",
    "    print(\"Grids are different.\")\n",
    "\n",
    "print(\"x-space grid:\")\n",
    "# help(ap.Grid)\n",
    "# print(dir(g))\n",
    "gpdf.Print()"
   ]
  },
  {
   "cell_type": "markdown",
   "metadata": {},
   "source": [
    "### Perturbative order\n"
   ]
  },
  {
   "cell_type": "code",
   "execution_count": 10,
   "metadata": {},
   "outputs": [],
   "source": [
    "PerturbativeOrder = config[\"PerturbativeOrder\"]"
   ]
  },
  {
   "cell_type": "markdown",
   "metadata": {},
   "source": [
    "## AlphaS\n",
    "\n",
    "Get the strong coupling constant $\\alpha_s$ from the PDF LHAPDF set. The equivalent of the following C++ code, which is used in NangaParbat.\n",
    "\n",
    "```cpp\n",
    "// Alpha_s (from PDFs). Get it from the LHAPDF set and tabulate it.\n",
    "  const auto Alphas = [&] (double const& mu) -> double{ return distpdf->alphasQ(mu); };\n",
    "  const apfel::TabulateObject<double> TabAlphas {[&] (double const& mu) -> double{return distpdf->alphasQ(mu); },\n",
    "                                                100, distpdf->qMin() * 0.9, distpdf->qMax(), 3, Thresholds};\n",
    "```\n",
    "\n",
    "Note that the C++ code in NangaParbat uses the LHAPDF's alphasQ(mu) function for the running coupling $\\alpha_s(\\mu)$, and then tabulating it with `TabulateObject`.\n",
    "The equivalent of this C++ implementation is implemented below in this notebook. Pros:\n",
    "\n",
    "- Ensures that $\\alpha_s(\\mu)$ used in your calculations exactly matches that from the PDF set.\n",
    "- Avoids discrepancies due to differences in perturbative orders, thresholds, or initial conditions.\n",
    "- Mimics the C++ code where `alphasQ(mu)` from `LHAPDF` is directly used.\n",
    "\n",
    "**Alternative python implementation that uses `APFEL++`'s internal `AlphaQCD` class to compute the running coupling $\\alpha_s(\\mu)$:**\n",
    "In the python example in `apfelxx/pywrap/`, there is:\n",
    "\n",
    "```python\n",
    "# Get perturbative order from LHAPDF set\n",
    "PerturbativeOrder = pdf.orderQCD\n",
    "\n",
    "# Running coupling\n",
    "Alphas = ap.AlphaQCD(\n",
    "    pdf.alphasQ(ap.constants.ZMass),  # Alpha_s at reference scale\n",
    "    ap.constants.ZMass,               # Reference scale (Z boson mass)\n",
    "    Thresholds,                       # Quark mass thresholds\n",
    "    PerturbativeOrder                 # Perturbative order\n",
    ")\n",
    "TabAlphas = ap.TabulateObject(a, 100, 0.9, 1001, 3)\n",
    "```\n",
    "\n",
    "In this python implementation, we are using `APFEL++`'s internal `AlphaQCD` class to compute the running coupling $\\alpha_s(\\mu)$, initialized with parameters from the LHAPDF set. Pros:\n",
    "\n",
    "- Leverages `APFEL++`'s internal implementation of the running coupling.\n",
    "- You can specify the perturbative order and thresholds explicitly.\n",
    "- Consistent with `APFEL++`'s evolution mechanisms.\n",
    "\n",
    "Cons:\n",
    "\n",
    "- May lead to inconsistencies if the parameters (e.g., initial $\\alpha_s$, perturbative order, thresholds) do not exactly match those used in the PDF set.\n",
    "- Requires careful synchronization of parameters to ensure consistency."
   ]
  },
  {
   "cell_type": "code",
   "execution_count": 11,
   "metadata": {},
   "outputs": [
    {
     "name": "stdout",
     "output_type": "stream",
     "text": [
      "Tabulating object... Time elapsed: 0.000028 seconds\n"
     ]
    }
   ],
   "source": [
    "# Define the Alpha_s function using the LHAPDF set\n",
    "Alphas = lambda mu: pdf.alphasQ(mu)\n",
    "\n",
    "# Create a TabulateObject for Alpha_s\n",
    "TabAlphas = ap.TabulateObject(\n",
    "    Alphas,\n",
    "    100,                         # Number of points in the mu grid\n",
    "    np.sqrt(pdf.q2Min) * 0.9,    # Minimum mu value (QMin)\n",
    "    np.sqrt(pdf.q2Max),          # Maximum mu value (QMax)\n",
    "    3,                           # Interpolation degree\n",
    "    Thresholds                   # Quark mass thresholds\n",
    ")"
   ]
  },
  {
   "cell_type": "markdown",
   "metadata": {},
   "source": [
    "## Scales"
   ]
  },
  {
   "cell_type": "code",
   "execution_count": 12,
   "metadata": {},
   "outputs": [],
   "source": [
    "# Get scale-variation factors\n",
    "Ci = config[\"TMDscales\"][\"Ci\"]\n",
    "Cf = config[\"TMDscales\"][\"Cf\"]\n",
    "\n",
    "# Initial scale\n",
    "mu0 = np.sqrt(pdf.q2Min)"
   ]
  },
  {
   "cell_type": "markdown",
   "metadata": {},
   "source": [
    "## Electromagnetic coupling squared (provided by APFEL++)\n",
    "\n",
    "The following apfelpy code is the equivalent of the C++ code in NangaParbat that computes the electromagnetic coupling squared $\\alpha_{\\text{em}}^2$.\n",
    "\n",
    "```cpp\n",
    "  const double aref = config[\"alphaem\"][\"aref\"].as<double>();\n",
    "  apfel::AlphaQED alphaem{aref, \n",
    "                          config[\"alphaem\"][\"Qref\"].as<double>(), \n",
    "                          Thresholds, \n",
    "                          {0, 0, 1.777}, \n",
    "                          0};\n",
    "  const apfel::TabulateObject<double> TabAlphaem{alphaem, 100, 0.9, 1001, 3};\n",
    " ``` "
   ]
  },
  {
   "cell_type": "code",
   "execution_count": 13,
   "metadata": {},
   "outputs": [
    {
     "name": "stdout",
     "output_type": "stream",
     "text": [
      "Tabulating object... Time elapsed: 0.000292 seconds\n"
     ]
    }
   ],
   "source": [
    "# Extract 'aref' and 'Qref' from the configuration\n",
    "aref = config[\"alphaem\"][\"aref\"]\n",
    "Qref = config[\"alphaem\"][\"Qref\"]\n",
    "\n",
    "# Lepton mass thresholds (electron, muon, tau masses in GeV).\n",
    "# Electron and muon masses are approximately zero compared to the tau mass\n",
    "LeptThresholds = [0.0, 0.0, 1.777]\n",
    "\n",
    "# Quark mass thresholds (previously defined)\n",
    "# Assuming 'Thresholds' is already defined in your code\n",
    "QuarkThresholds = Thresholds\n",
    "\n",
    "# Perturbative order (0 for Leading Order)\n",
    "pto_aem = 0\n",
    "\n",
    "\n",
    "# Initialize the AlphaQED object\n",
    "alphaem = ap.AlphaQED(\n",
    "    AlphaRef=aref,\n",
    "    MuRef=Qref,\n",
    "    LeptThresholds=LeptThresholds,\n",
    "    QuarkThresholds=QuarkThresholds,\n",
    "    pt=pto_aem                            # Perturbative order\n",
    ")\n",
    "\n",
    "# Create a TabulateObject for alphaem\n",
    "TabAlphaem = ap.TabulateObject(\n",
    "    alphaem,\n",
    "    100,     # Number of points in the mu grid\n",
    "    0.9,     # Minimum mu value\n",
    "    1001,    # Maximum mu value\n",
    "    3        # Interpolation degree\n",
    ")\n"
   ]
  },
  {
   "cell_type": "markdown",
   "metadata": {},
   "source": [
    "## Evolve PDFs\n",
    "\n",
    "Construct set of distributions as a function of the scale to be tabulated. The equivalent of the following C++ code in NangaParbat.\n",
    "\n",
    "```cpp\n",
    "  const auto EvolvedPDFs = [=,&gpdf] (double const& mu) -> apfel::Set<apfel::Distribution>\n",
    "  {\n",
    "    return apfel::Set<apfel::Distribution>{apfel::EvolutionBasisQCD{apfel::NF(mu, Thresholds)}, DistributionMap(gpdf, RotPDFs, mu)};\n",
    "  };\n",
    "\n",
    "  // Tabulate collinear PDFs\n",
    "  const apfel::TabulateObject<apfel::Set<apfel::Distribution>> TabPDFs{EvolvedPDFs, 100, distpdf->qMin() * 0.9, distpdf->qMax(), 3, Thresholds};\n",
    "  const auto CollPDFs = [&] (double const& mu) -> apfel::Set<apfel::Distribution> { return TabPDFs.Evaluate(mu); };\n",
    "```"
   ]
  },
  {
   "cell_type": "code",
   "execution_count": 14,
   "metadata": {},
   "outputs": [
    {
     "name": "stdout",
     "output_type": "stream",
     "text": [
      "Initializing DglapObjects for space-like QCD unpolarised evolution... Time elapsed: 0.054356 seconds\n",
      "Tabulating object... Time elapsed: 0.086572 seconds\n"
     ]
    }
   ],
   "source": [
    "### --- This is a working code coming from ApfelPy_example.ipynb \n",
    "\n",
    "### --- Check if it does exactly the same things as the c++ lines reported above from the \n",
    "###     NangaParbat file tests/SIDISMultiplicities.cc --- ###\n",
    "\n",
    "# Initialize QCD evolution objects\n",
    "DglapObj = ap.initializers.InitializeDglapObjectsQCD(gpdf, Masses, Thresholds)\n",
    "\n",
    "# Construct the DGLAP objects\n",
    "EvolvedPDFs = ap.builders.BuildDglap(DglapObj, lambda x, mu: ap.utilities.PhysToQCDEv(pdf.xfxQ(x, mu)), mu0, pdf.orderQCD, TabAlphas.Evaluate)\n",
    "\n",
    "# Tabulate collinear PDFs\n",
    "# TabPDFs = ap.TabulateObjectSetD(EvolvedPDFs, 100, 1, 1000, 3)\n",
    "TabPDFs = ap.TabulateObjectSetD(EvolvedPDFs, 100, np.sqrt(pdf.q2Min) * 0.9, np.sqrt(pdf.q2Max), 3)\n",
    "CollPDFs = lambda mu: TabPDFs.Evaluate(mu)"
   ]
  },
  {
   "cell_type": "markdown",
   "metadata": {},
   "source": [
    "## TMDs"
   ]
  },
  {
   "cell_type": "code",
   "execution_count": 15,
   "metadata": {},
   "outputs": [],
   "source": [
    "from modules.fnp import fNPManager"
   ]
  },
  {
   "cell_type": "markdown",
   "metadata": {},
   "source": [
    "## Initialize fNP"
   ]
  },
  {
   "cell_type": "code",
   "execution_count": 16,
   "metadata": {},
   "outputs": [],
   "source": [
    "# Load the configuration from a YAML file\n",
    "\n",
    "config_file_path = 'inputs/fNPconfig.yaml'\n",
    "config_fnp = utl.load_yaml_file(config_file_path)\n"
   ]
  },
  {
   "cell_type": "code",
   "execution_count": 17,
   "metadata": {},
   "outputs": [
    {
     "name": "stdout",
     "output_type": "stream",
     "text": [
      "\u001b[94m[fNPManager] Initializing PDF and FF fNP modules\u001b[0m\n",
      "\u001b[94m[fNPManager] Setting up shared evolution: g2=0.1284, trainable=True\u001b[0m\n",
      "\u001b[92m[fNPManager] \u001b[92mInitialized 8 PDF flavor modules\u001b[0m\n",
      "\u001b[92m[fNPManager] Initialized 8 FF flavor modules\u001b[0m\n",
      "\u001b[92m✅ fNP manager initialization completed\u001b[0m\n",
      "\n"
     ]
    }
   ],
   "source": [
    "# Instantiate the model.\n",
    "# The object model_fNP itself is not just a dictionary; \n",
    "# it is an nn.Module that contains an nn.ModuleDict as one of its attributes.\n",
    "model_fNP = fNPManager(config_fnp)\n",
    "   "
   ]
  },
  {
   "cell_type": "markdown",
   "metadata": {},
   "source": [
    "## TMD objects"
   ]
  },
  {
   "cell_type": "code",
   "execution_count": 18,
   "metadata": {},
   "outputs": [
    {
     "name": "stdout",
     "output_type": "stream",
     "text": [
      "Initializing DglapObjects for space-like QCD unpolarised evolution... Time elapsed: 0.086048 seconds\n",
      "Initializing DglapObjects for time-like QCD unpolarised evolution... Time elapsed: 0.027850 seconds\n",
      "Initializing TMD objects for matching and evolution... Time elapsed: 0.055555 seconds\n"
     ]
    }
   ],
   "source": [
    "# Initialize TMD objects\n",
    "TmdObjPDF = ap.tmd.InitializeTmdObjects(gpdf, Thresholds)"
   ]
  },
  {
   "cell_type": "code",
   "execution_count": 19,
   "metadata": {},
   "outputs": [],
   "source": [
    "# Build evolved TMD PDFs\n",
    "EvTMDPDFs    = ap.tmd.BuildTmdPDFs(TmdObjPDF, CollPDFs, Alphas, PerturbativeOrder, Ci);\n",
    "MatchTMDPDFs = ap.tmd.MatchTmdPDFs(TmdObjPDF, CollPDFs, Alphas, PerturbativeOrder, Ci);"
   ]
  },
  {
   "cell_type": "code",
   "execution_count": 20,
   "metadata": {},
   "outputs": [],
   "source": [
    "QuarkSudakov = ap.tmd.QuarkEvolutionFactor(TmdObjPDF, Alphas, PerturbativeOrder, Ci, 1e5);\n",
    "\n",
    "# Get hard-factor\n",
    "Hf = ap.tmd.HardFactor(\"SIDIS\", TmdObjPDF, Alphas, PerturbativeOrder, Cf);"
   ]
  },
  {
   "cell_type": "markdown",
   "metadata": {},
   "source": [
    "## Data - kinematics"
   ]
  },
  {
   "cell_type": "code",
   "execution_count": 21,
   "metadata": {},
   "outputs": [
    {
     "name": "stdout",
     "output_type": "stream",
     "text": [
      "PI\n",
      "1\n",
      "[0.1030419, 0.2055688, 0.3056045, 0.4083209, 0.5321106, 0.7035105, 0.9611047]\n"
     ]
    }
   ],
   "source": [
    "### --- Example of data file\n",
    "\n",
    "# NOTE: dsigma here is the multiplicity, here I copied a real HERMES bin: \n",
    "#       HERMES_Pro_Pip_x_0.023_0.047_z_0.475_0.6.yaml\n",
    "\n",
    "dataset = {\n",
    "    \"header\": {\n",
    "        \"process\": \"SIDIS\",\n",
    "        \"observable\": \"multiplicity\",\n",
    "        \"target_isoscalarity\": 1,\n",
    "        \"hadron\": \"PI\",\n",
    "        \"charge\": +1,\n",
    "        \"Vs\": 7.2565449,\n",
    "        \"PS_reduction\": {\n",
    "            \"W\": 3.1622777,\n",
    "            \"ymin\": 0.1,\n",
    "            \"ymax\": 0.85\n",
    "        },  \n",
    "    },\n",
    "    \"data\": {\n",
    "        \"PhT\": [0.1030419, 0.2055688, 0.3056045, 0.4083209, 0.5321106, 0.7035105, 0.9611047],\n",
    "        \"x\":   [0.03758844, 0.03758844, 0.03758844, 0.03758844, 0.03758844, 0.03758844, 0.03758844],\n",
    "        \"z\":   [0.5334359, 0.5370032, 0.5377358, 0.5421495, 0.5419208, 0.5442552, 0.5456988],\n",
    "        \"Q2\":  [1.249727, 1.249727, 1.249727, 1.249727, 1.249727, 1.249727, 1.249727],\n",
    "        \"y\" :  [0.63139491, 0.63139491, 0.63139491, 0.63139491, 0.63139491, 0.63139491, 0.63139491],\n",
    "        \"dsigma\": [0.1864647, 0.4160929, 0.5467943, 0.5739435, 0.5183662, 0.3815261, 0.1247706],\n",
    "    },\n",
    "    \n",
    "    \n",
    "}\n",
    "\n",
    "# Example usage:\n",
    "print(dataset[\"header\"][\"hadron\"])\n",
    "print(dataset[\"header\"][\"charge\"])\n",
    "print(dataset[\"data\"][\"PhT\"])"
   ]
  },
  {
   "cell_type": "markdown",
   "metadata": {},
   "source": [
    "# Initialize collinear FF set"
   ]
  },
  {
   "cell_type": "code",
   "execution_count": 22,
   "metadata": {},
   "outputs": [
    {
     "name": "stdout",
     "output_type": "stream",
     "text": [
      "LHAPDF 6.5.4 loading /opt/homebrew/Cellar/lhapdf/6.5.4/share/LHAPDF/MAPFF10NNLOPIp/MAPFF10NNLOPIp_0000.dat\n",
      "MAPFF10NNLOPIp PDF set, member #0, version 1; LHAPDF ID = 2021000\n"
     ]
    }
   ],
   "source": [
    "# PDF set configuration\n",
    "ff_name = config[\"ffset\"][\"name\"]\n",
    "ff_member = config[\"ffset\"][\"member\"]\n",
    "\n",
    "# Initalise LHAPDF set\n",
    "distff = lh.mkPDF(ff_name, ff_member) # type: ignore"
   ]
  },
  {
   "cell_type": "markdown",
   "metadata": {},
   "source": [
    "## Rotation of collinear FF set in QCD evolution basis"
   ]
  },
  {
   "cell_type": "code",
   "execution_count": 23,
   "metadata": {},
   "outputs": [],
   "source": [
    "# Rotate PF set into the QCD evolution basis\n",
    "RotFFs = lambda x, mu: ap.PhysToQCDEv(distff.xfxQ(x, mu))"
   ]
  },
  {
   "cell_type": "markdown",
   "metadata": {},
   "source": [
    "### apfelpy x-space grid for collinear FFs"
   ]
  },
  {
   "cell_type": "code",
   "execution_count": 24,
   "metadata": {},
   "outputs": [
    {
     "name": "stdout",
     "output_type": "stream",
     "text": [
      "x-space grid:\n",
      "Grid: 0x10e4d2b50\n",
      "JointGrid = 0x10e4d2bb0\n",
      "0.01 0.0107978 0.0116591 0.0125893 0.0135936 0.014678 0.0158489 0.0171133 0.0184785 0.0199526 0.0215443 0.0232631 0.0251189 0.0271227 0.0292864 0.0316228 0.0341455 0.0368695 0.0398107 0.0429866 0.0464159 0.0501187 0.054117 0.0584341 0.0630957 0.0681292 0.0735642 0.0794328 0.0857696 0.0926119 0.1 0.107978 0.116591 0.125893 0.135936 0.14678 0.158489 0.171133 0.184785 0.199526 0.215443 0.232631 0.251189 0.271227 0.292864 0.316228 0.341455 0.368695 0.398107 0.429866 0.464159 0.501187 0.54117 0.584341 0.630957 0.63704 0.643181 0.649382 0.655642 0.661962 0.668344 0.674787 0.681292 0.68786 0.694491 0.701186 0.707946 0.714771 0.721661 0.728618 0.735642 0.742734 0.749894 0.757123 0.764422 0.771792 0.779232 0.786744 0.794328 0.801986 0.805842 0.809717 0.813611 0.817523 0.821454 0.825404 0.829373 0.833361 0.837369 0.841395 0.845441 0.849506 0.853591 0.857696 0.86182 0.865964 0.870128 0.874312 0.878517 0.882741 0.886986 0.891251 0.895537 0.899843 0.90417 0.908518 0.912886 0.917276 0.921687 0.926119 0.930572 0.935047 0.939543 0.944061 0.9486 0.953162 0.957745 0.962351 0.966978 0.971628 0.9763 0.980995 0.985712 0.990452 0.995214 1 1.00481 1.00964 1.0145 \n"
     ]
    }
   ],
   "source": [
    "# Setup APFEL++ x-space grid for FFs\n",
    "gff = ap.Grid([ap.SubGrid(*subgrids) for subgrids in config[\"xgridff\"]])\n",
    "\n",
    "print(\"x-space grid:\")\n",
    "# help(ap.Grid)\n",
    "# print(dir(g))\n",
    "gff.Print()"
   ]
  },
  {
   "cell_type": "markdown",
   "metadata": {},
   "source": [
    "## Evolve collinear FFs\n",
    "\n",
    "This is the equivalent of the C++ code:\n",
    "\n",
    "```cpp\n",
    "// Construct set of distributions as a function of the scale to be\n",
    "// tabulated\n",
    "const auto EvolvedFFs = [=,&gff] (double const& mu) -> apfel::Set<apfel::Distribution>\n",
    "{\n",
    "    return apfel::Set<apfel::Distribution>{apfel::EvolutionBasisQCD{apfel::NF(mu, Thresholds)}, DistributionMap(gff, RotFFs, mu)};\n",
    "};\n",
    "\n",
    "// Tabulate collinear FFs\n",
    "const apfel::TabulateObject<apfel::Set<apfel::Distribution>> TabFFs{EvolvedFFs, 200, distff->qMin() * 0.9, distff->qMax(), 3, Thresholds};\n",
    "const auto CollFFs = [&] (double const& mu) -> apfel::Set<apfel::Distribution> { return TabFFs.Evaluate(mu); };\n",
    "\n",
    "```"
   ]
  },
  {
   "cell_type": "code",
   "execution_count": 25,
   "metadata": {},
   "outputs": [
    {
     "name": "stdout",
     "output_type": "stream",
     "text": [
      "Initializing DglapObjects for space-like QCD unpolarised evolution... Time elapsed: 0.036181 seconds\n",
      "Tabulating object... Time elapsed: 0.061467 seconds\n"
     ]
    }
   ],
   "source": [
    "# Construct set of distributions as a function of the scale to be tabulated\n",
    "\n",
    "# Initialize QCD evolution objects\n",
    "DglapObjFF = ap.initializers.InitializeDglapObjectsQCD(gff, Masses, Thresholds)\n",
    "\n",
    "# Construct the DGLAP objects\n",
    "EvolvedFFs = ap.builders.BuildDglap(DglapObjFF, lambda x, mu: ap.utilities.PhysToQCDEv(distff.xfxQ(x, mu)), mu0, distff.orderQCD, TabAlphas.Evaluate)\n",
    "\n",
    "# Tabulate collinear FFs\n",
    "TabFFs = ap.TabulateObjectSetD(EvolvedFFs, 100, np.sqrt(distff.q2Min) * 0.9, np.sqrt(distff.q2Max), 3)\n",
    "CollFFs = lambda mu: TabFFs.Evaluate(mu)"
   ]
  },
  {
   "cell_type": "markdown",
   "metadata": {},
   "source": [
    "## TMD FFs Objects"
   ]
  },
  {
   "cell_type": "code",
   "execution_count": 26,
   "metadata": {},
   "outputs": [
    {
     "name": "stdout",
     "output_type": "stream",
     "text": [
      "Initializing DglapObjects for space-like QCD unpolarised evolution... Time elapsed: 0.035749 seconds\n",
      "Initializing DglapObjects for time-like QCD unpolarised evolution... Time elapsed: 0.018538 seconds\n",
      "Initializing TMD objects for matching and evolution... Time elapsed: 0.037182 seconds\n"
     ]
    }
   ],
   "source": [
    "# Initialize TMD FF objects\n",
    "TmdObjFF  = ap.tmd.InitializeTmdObjects(gff, Thresholds);"
   ]
  },
  {
   "cell_type": "code",
   "execution_count": 27,
   "metadata": {},
   "outputs": [],
   "source": [
    "# Build evolved TMD FFs\n",
    "EvTMDFFs    = ap.tmd.BuildTmdFFs(TmdObjFF, CollFFs, Alphas, PerturbativeOrder, Ci);\n",
    "MatchTMDFFs = ap.tmd.MatchTmdFFs(TmdObjFF, CollFFs, Alphas, PerturbativeOrder, Ci);"
   ]
  },
  {
   "cell_type": "markdown",
   "metadata": {},
   "source": [
    "# Kinematics"
   ]
  },
  {
   "cell_type": "markdown",
   "metadata": {},
   "source": [
    "## Get kinematics"
   ]
  },
  {
   "cell_type": "code",
   "execution_count": 28,
   "metadata": {},
   "outputs": [],
   "source": [
    "# Get kinematic variables from the dataset\n",
    "\n",
    "# Scalars (we can leave these as Python numbers, or wrap as 0-D tensors)\n",
    "Vs_aslist        = dataset[\"header\"][\"Vs\"]\n",
    "targetiso_aslist = dataset[\"header\"][\"target_isoscalarity\"]\n",
    "\n",
    "# Grab raw data (list or np.array)\n",
    "x_np    = dataset[\"data\"][\"x\"]\n",
    "Q2_np   = dataset[\"data\"][\"Q2\"]\n",
    "z_np    = dataset[\"data\"][\"z\"]\n",
    "PhT_np  = dataset[\"data\"][\"PhT\"]\n",
    "\n"
   ]
  },
  {
   "cell_type": "markdown",
   "metadata": {},
   "source": [
    "## Convert kinematics to torch tensors"
   ]
  },
  {
   "cell_type": "code",
   "execution_count": 29,
   "metadata": {},
   "outputs": [],
   "source": [
    "# Convert to torch tensors (choose dtype and, if you want, move to GPU)\n",
    "device = torch.device(\"cuda\" if torch.cuda.is_available() else \"cpu\")\n",
    "dtype  = torch.float32\n",
    "\n",
    "Vs        = torch.tensor(dataset[\"header\"][\"Vs\"], dtype=torch.float32, device=device)\n",
    "targetiso = torch.tensor(dataset[\"header\"][\"target_isoscalarity\"], dtype=torch.float32, device=device)\n",
    "\n",
    "x_tens    = torch.tensor(x_np,    dtype=dtype, device=device)\n",
    "Q2_tens   = torch.tensor(Q2_np,   dtype=dtype, device=device)\n",
    "z_tens    = torch.tensor(z_np,    dtype=dtype, device=device)\n",
    "PhT_tens  = torch.tensor(PhT_np,  dtype=dtype, device=device)\n",
    "\n",
    "# Compute what is needed with pure torch ops\n",
    "Q_tens   = torch.sqrt(Q2_tens)         # elementwise √\n",
    "qT_tens  = PhT_tens / z_tens           # elementwise division\n"
   ]
  },
  {
   "cell_type": "code",
   "execution_count": 30,
   "metadata": {},
   "outputs": [
    {
     "name": "stdout",
     "output_type": "stream",
     "text": [
      "x: tensor([0.0376, 0.0376, 0.0376, 0.0376, 0.0376, 0.0376, 0.0376])\n",
      "Q: tensor([1.1179, 1.1179, 1.1179, 1.1179, 1.1179, 1.1179, 1.1179])\n",
      "z: tensor([0.5334, 0.5370, 0.5377, 0.5421, 0.5419, 0.5443, 0.5457])\n",
      "PhT: tensor([0.1030, 0.2056, 0.3056, 0.4083, 0.5321, 0.7035, 0.9611])\n",
      "qT: tensor([0.1932, 0.3828, 0.5683, 0.7532, 0.9819, 1.2926, 1.7612])\n",
      "Length of x: 7\n",
      "Length of Q: 7\n",
      "Length of z: 7\n",
      "Length of PhT: 7\n"
     ]
    }
   ],
   "source": [
    "# Check \n",
    "print(\"x:\", x_tens)\n",
    "print(\"Q:\", Q_tens)\n",
    "print(\"z:\", z_tens)\n",
    "print(\"PhT:\", PhT_tens)\n",
    "print(\"qT:\", qT_tens)\n",
    "\n",
    "# Check the length of the vectors\n",
    "print(\"Length of x:\", len(x_tens))\n",
    "print(\"Length of Q:\", len(Q_tens))\n",
    "print(\"Length of z:\", len(z_tens))\n",
    "print(\"Length of PhT:\", len(PhT_tens))"
   ]
  },
  {
   "cell_type": "code",
   "execution_count": 31,
   "metadata": {},
   "outputs": [],
   "source": [
    "### --- Taking into account the isoscalarity of the target\n",
    "\n",
    "# sign = +1 where targetiso >= 0, else -1\n",
    "sign = torch.where(targetiso >= 0,\n",
    "                   torch.ones_like(targetiso),\n",
    "                   -torch.ones_like(targetiso))\n",
    "\n",
    "# Fraction of protons = |targetiso|\n",
    "frp = targetiso.abs()\n",
    "\n",
    "# Fraction of neutrons = 1 − frp\n",
    "frn = 1 - frp"
   ]
  },
  {
   "cell_type": "markdown",
   "metadata": {},
   "source": [
    "# Tabulate initial scale TMD PDFs\n",
    "\n",
    "This is the implementation of:\n",
    "\n",
    "```cpp\n",
    "// Tabulate initial scale TMD PDFs in b in the physical basis\n",
    "// taking into account the isoscalarity of the target.\n",
    "std::function<apfel::Set<apfel::Distribution>(double const&)> isTMDPDFs =\n",
    "    [&] (double const& b) -> apfel::Set<apfel::Distribution>\n",
    "{\n",
    "    const apfel::Set<apfel::Distribution> xF = QCDEvToPhys(MatchTMDPDFs(b).GetObjects());\n",
    "    std::map<int, apfel::Distribution> xFiso;\n",
    "\n",
    "    // Treat down and up separately to take isoscalarity of\n",
    "    // the target into account.\n",
    "    xFiso.insert({1,  frp * xF.at(sign) + frn * xF.at(sign*2)});\n",
    "    xFiso.insert({-1, frp * xF.at(-sign) + frn * xF.at(-sign*2)});\n",
    "    xFiso.insert({2,  frp * xF.at(sign*2) + frn * xF.at(sign)});\n",
    "    xFiso.insert({-2, frp * xF.at(-sign*2) + frn * xF.at(-sign)});\n",
    "    \n",
    "    // Now run over the remaining flavours\n",
    "    for (int i = 3; i <= 6; i++)\n",
    "    {\n",
    "        const int ip = i * sign;\n",
    "        xFiso.insert({i, xF.at(ip)});\n",
    "        xFiso.insert({-i, xF.at(-ip)});\n",
    "    }\n",
    "    return apfel::Set<apfel::Distribution>{xFiso};\n",
    "};\n",
    "const apfel::TabulateObject<apfel::Set<apfel::Distribution>> TabMatchTMDPDFs{isTMDPDFs, 200, 1e-2, 2, 1, {},\n",
    "                                                                                [] (double const& x) -> double{ return log(x); },\n",
    "                                                                                [] (double const& y) -> double{ return exp(y); }};\n",
    "\n",
    "```"
   ]
  },
  {
   "cell_type": "code",
   "execution_count": 32,
   "metadata": {},
   "outputs": [],
   "source": [
    "# Functions used for the tabulation\n",
    "# Use a 64-bit float tensor so you don’t lose precision\n",
    "def TabFunc(b: float) -> float:\n",
    "    t = torch.tensor(b, dtype=torch.float64)\n",
    "    return t.log().item()\n",
    "\n",
    "def InvTabFunc(y: float) -> float:\n",
    "    t = torch.tensor(y, dtype=torch.float64)\n",
    "    return t.exp().item()"
   ]
  },
  {
   "cell_type": "code",
   "execution_count": 33,
   "metadata": {},
   "outputs": [],
   "source": [
    "# This is the python version of the C++ lambda isTMDPDFs\n",
    "def isTMDPDFs(b):\n",
    "    \"\"\"\n",
    "    b: impact-parameter (float)\n",
    "    returns: Set<Distribution> in the physical basis,\n",
    "             with isoscalarity built in.\n",
    "    \"\"\"\n",
    "\n",
    "    # Match in b-space, then rotate back to physical basis.\n",
    "    # The b dependence in this case is hidden in the TMD object, TmdObjpDF \n",
    "    # (which internally knows how to carry the b–dependence).\n",
    "    # matched = ap.tmd.MatchTmdPDFs(TmdObjPDF, CollPDFs, Alphas, PerturbativeOrder, Ci)                                                 \n",
    "    # xF      = ap.utilities.QCDEvToPhys(matched.GetObjects())\n",
    "    \n",
    "    # This does the same thing of the two lines above, but in just one line, \n",
    "    # MatchTMDPDFs has already been defined above, here is just reported \n",
    "    # (tecnically is re-defined in teh same exact way)\n",
    "    MatchTMDPDFs = ap.tmd.MatchTmdPDFs(TmdObjPDF, CollPDFs, Alphas, PerturbativeOrder, Ci);\n",
    "    xF = ap.utilities.QCDEvToPhys(MatchTMDPDFs(b).GetObjects()) # now xF is a dict keyed by ints: { …, 1: Distribution, 2: Distribution, …}\n",
    "\n",
    "    # Deal with the fact that sign is a pytorch tensor, not a number.\n",
    "    # Extract your integer keys from the tensor\n",
    "    s    = int(sign.item())        # e.g. +1 or -1\n",
    "    s2   = int((sign * 2).item())  # +2 or -2\n",
    "\n",
    "    # Build the isoscalar map.\n",
    "    # Treat down and up separately to take isoscalarity of\n",
    "    # the target into account.    \n",
    "    # Build the isoscalar map, but keep frp/frn as tensors\n",
    "    xFiso = {}\n",
    "    xFiso[ 1] = frp * xF[  s] + frn * xF[  s2]\n",
    "    xFiso[-1] = frp * xF[ -s] + frn * xF[ -s2]\n",
    "    xFiso[ 2] = frp * xF[  s2] + frn * xF[  s]\n",
    "    xFiso[-2] = frp * xF[ -s2] + frn * xF[ -s]\n",
    "    \n",
    "    # Now run over the remaining flavors\n",
    "    for i in range(3,7):\n",
    "        ip = int((i * sign).item())    # e.g. 3→3 or 3→-3\n",
    "        xFiso[ i] = xF[ip]\n",
    "        xFiso[-i] = xF[-ip]\n",
    "\n",
    "    return ap.SetD(xFiso)  # wrap into the Python Set<Distribution> \n"
   ]
  },
  {
   "cell_type": "code",
   "execution_count": 34,
   "metadata": {},
   "outputs": [
    {
     "name": "stdout",
     "output_type": "stream",
     "text": [
      "Tabulating object... Time elapsed: 0.509960 seconds\n"
     ]
    }
   ],
   "source": [
    "TabMatchTMDPDFs = ap.TabulateObjectSetD(\n",
    "    isTMDPDFs,    # function(double)->SetD\n",
    "    200,          # nQ points\n",
    "    1e-2,         # QMin\n",
    "    2,            # QMax\n",
    "    1,            # interpolation degree\n",
    "    [],           # empty thresholds vector {}\n",
    "    TabFunc,      # log tabulation\n",
    "    InvTabFunc    # exp inverse\n",
    ")  "
   ]
  },
  {
   "cell_type": "markdown",
   "metadata": {},
   "source": [
    "# Tabulate initial scale TMD FFs in b in the physical basis"
   ]
  },
  {
   "cell_type": "code",
   "execution_count": 35,
   "metadata": {},
   "outputs": [],
   "source": [
    "isTMDFFs = lambda b: ap.SetD(\n",
    "    ap.utilities.QCDEvToPhys(\n",
    "        MatchTMDFFs(b).GetObjects()\n",
    "    )\n",
    ")"
   ]
  },
  {
   "cell_type": "code",
   "execution_count": 36,
   "metadata": {},
   "outputs": [
    {
     "name": "stdout",
     "output_type": "stream",
     "text": [
      "Tabulating object... Time elapsed: 0.078541 seconds\n"
     ]
    }
   ],
   "source": [
    "TabMatchTMDFFs = ap.TabulateObjectSetD(\n",
    "    isTMDFFs,    # function(double)->SetD\n",
    "    200,          # nQ points\n",
    "    1e-2,         # QMin\n",
    "    2,            # QMax\n",
    "    1,            # interpolation degree\n",
    "    [],           # empty thresholds vector {}\n",
    "    TabFunc,      # log tabulation\n",
    "    InvTabFunc    # exp inverse\n",
    ")  "
   ]
  },
  {
   "cell_type": "markdown",
   "metadata": {},
   "source": [
    "# Compute differential cross sections\n",
    "\n",
    "begins l.361 of SIDISMultiplicities.cc"
   ]
  },
  {
   "cell_type": "code",
   "execution_count": 37,
   "metadata": {},
   "outputs": [],
   "source": [
    "# Implementation of the bstar prescription\n",
    "# Since NangaParbat's bstar functions are not available in the Python wrapper,\n",
    "# we implement a simple bstar_min prescription\n",
    "\n",
    "def bstar_min(b, Q):\n",
    "    \"\"\"\n",
    "    Simple bstar prescription (bstar_min variant)\n",
    "    b: impact parameter (float)\n",
    "    Q: hard scale (float)\n",
    "    \"\"\"\n",
    "    bmax = 1.5  # GeV^-1, typical value used in TMD phenomenology\n",
    "    gamma_E = 0.5772156649015329  # Euler-Mascheroni constant\n",
    "    return b / np.sqrt(1 + (b / bmax)**2) * 2 * np.exp(-gamma_E) / Q"
   ]
  },
  {
   "cell_type": "code",
   "execution_count": 38,
   "metadata": {},
   "outputs": [
    {
     "name": "stdout",
     "output_type": "stream",
     "text": [
      "Starting SIDIS cross section computation for 7 qT values...\n",
      "Computing qT = 0.193, Q = 1.118, x = 0.0376, z = 0.5334\n",
      "  Scales: mu = 1.118, zeta = 1.250\n",
      "  Active flavors: 3, Yp = 1.136\n",
      "  Integration successful: σ = 1.897599e+04\n",
      "Skipping qT = 0.383 (above cut)\n",
      "Skipping qT = 0.568 (above cut)\n",
      "Skipping qT = 0.753 (above cut)\n",
      "Skipping qT = 0.982 (above cut)\n",
      "Skipping qT = 1.293 (above cut)\n",
      "Skipping qT = 1.761 (above cut)\n",
      "SIDIS cross section computation completed!\n"
     ]
    }
   ],
   "source": [
    "# Initialize missing objects before computation\n",
    "\n",
    "# Initialize Ogata quadrature object for b-space integration\n",
    "DEObj = ap.ogata.OgataQuadrature(0, 1e-9, 0.00001)  # (order, cutoff, step)\n",
    "\n",
    "# Initialize results tensor\n",
    "theo_xsec = torch.zeros_like(qT_tens)\n",
    "\n",
    "print(f\"Starting SIDIS cross section computation for {len(qT_tens)} qT values...\")\n",
    "\n",
    "# Computation loop for each qT value\n",
    "for iqT in range(len(qT_tens)):\n",
    "    # Convert to float for APFEL++ compatibility\n",
    "    qTm = float(qT_tens[iqT].item())\n",
    "    Qm  = float(Q_tens[iqT].item()) \n",
    "    xm  = float(x_tens[iqT].item())\n",
    "    zm  = float(z_tens[iqT].item())\n",
    "    \n",
    "    # Do not compute if qT > cut * Q\n",
    "    if qTm > qToQcut * Qm:\n",
    "        print(f\"Skipping qT = {qTm:.3f} (above cut)\")\n",
    "        continue\n",
    "    \n",
    "    print(f\"Computing qT = {qTm:.3f}, Q = {Qm:.3f}, x = {xm:.4f}, z = {zm:.4f}\")\n",
    "    \n",
    "    # Scales\n",
    "    mu = Cf * Qm\n",
    "    zeta = Qm * Qm\n",
    "    \n",
    "    # Yp factor for SIDIS kinematics \n",
    "    Yp = 1 + (1 - (Qm / Vs)**2 / xm)**2\n",
    "    \n",
    "    # Electroweak charges (only photon contribution)\n",
    "    # Number of active flavors\n",
    "    nf = int(ap.utilities.NF(mu, Thresholds))\n",
    "    \n",
    "    print(f\"  Scales: mu = {mu:.3f}, zeta = {zeta:.3f}\")\n",
    "    print(f\"  Active flavors: {nf}, Yp = {Yp:.3f}\")\n",
    "    \n",
    "    # Define b-integrand function for Ogata quadrature\n",
    "    def b_integrand(b):\n",
    "        # bstar prescription\n",
    "        bs = bstar_min(b, Qm)\n",
    "        \n",
    "        # TMD luminosity: sum over active quark flavors\n",
    "        lumiq = 0.0\n",
    "        for q in range(-nf, nf+1):\n",
    "            if q == 0:  # Skip gluon\n",
    "                continue\n",
    "                \n",
    "            # Get TMD PDF at (q, x, bs)\n",
    "            tmd_pdf = TabMatchTMDPDFs.EvaluatexQ(q, xm, bs)\n",
    "            \n",
    "            # Get TMD FF at (q, z, bs) \n",
    "            tmd_ff = TabMatchTMDFFs.EvaluatexQ(q, zm, bs)\n",
    "            \n",
    "            # Electric charge squared for this quark flavor\n",
    "            qch2 = ap.constants.QCh2[abs(q)-1] if abs(q) <= len(ap.constants.QCh2) else 0.0\n",
    "            \n",
    "            # Luminosity contribution\n",
    "            lumiq += Yp * tmd_pdf / xm * qch2 * tmd_ff\n",
    "        \n",
    "        # Non-perturbative evolution factors (using fNP model)\n",
    "        # For now, use a simple Gaussian form as placeholder\n",
    "        # TODO: Replace with actual fNP model evaluation\n",
    "        fnp1 = np.exp(-0.1 * b**2)  # PDF non-perturbative function\n",
    "        fnp2 = np.exp(-0.05 * b**2)  # FF non-perturbative function\n",
    "        \n",
    "        # Sudakov factor\n",
    "        sudakov_factor = QuarkSudakov(bs, mu, zeta)**2\n",
    "        \n",
    "        # Hard factor\n",
    "        hard_factor = Hf(mu)\n",
    "        \n",
    "        # Alpha_em^2 factor\n",
    "        alphaem2 = TabAlphaem.Evaluate(Qm)**2\n",
    "        \n",
    "        # Full integrand\n",
    "        integrand = (b * fnp1 * fnp2 * lumiq * sudakov_factor * \n",
    "                    alphaem2 * hard_factor / (Qm**3 * zm))\n",
    "        \n",
    "        return integrand\n",
    "    \n",
    "    # Perform b-space integration using Ogata quadrature\n",
    "    try:\n",
    "        integral_result = DEObj.transform(b_integrand, qTm)\n",
    "        \n",
    "        # Differential cross section (numerator only, no denominator)\n",
    "        differential_xsec = (ap.constants.ConvFact * ap.constants.FourPi * \n",
    "                           qTm * integral_result / (2 * Qm) / zm)\n",
    "        \n",
    "        theo_xsec[iqT] = differential_xsec\n",
    "        \n",
    "        print(f\"  Integration successful: σ = {differential_xsec:.6e}\")\n",
    "        \n",
    "    except Exception as e:\n",
    "        print(f\"  Integration failed: {e}\")\n",
    "        theo_xsec[iqT] = 0.0\n",
    "\n",
    "print(\"SIDIS cross section computation completed!\")\n"
   ]
  },
  {
   "cell_type": "raw",
   "metadata": {
    "vscode": {
     "languageId": "raw"
    }
   },
   "source": [
    "\n"
   ]
  },
  {
   "cell_type": "code",
   "execution_count": null,
   "metadata": {},
   "outputs": [],
   "source": []
  }
 ],
 "metadata": {
  "kernelspec": {
   "display_name": "Python 3",
   "language": "python",
   "name": "python3"
  },
  "language_info": {
   "codemirror_mode": {
    "name": "ipython",
    "version": 3
   },
   "file_extension": ".py",
   "mimetype": "text/x-python",
   "name": "python",
   "nbconvert_exporter": "python",
   "pygments_lexer": "ipython3",
   "version": "3.10.17"
  }
 },
 "nbformat": 4,
 "nbformat_minor": 4
}
