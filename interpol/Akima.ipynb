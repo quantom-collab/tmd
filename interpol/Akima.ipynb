{
 "cells": [
  {
   "cell_type": "code",
   "execution_count": 3,
   "id": "7d2fff81-6127-459b-a722-071e7b441be5",
   "metadata": {},
   "outputs": [],
   "source": [
    "import torch\n",
    "#--matplotlib\n",
    "import matplotlib\n",
    "from matplotlib.lines import Line2D\n",
    "matplotlib.rcParams['text.latex.preamble']=r\"\\usepackage{amsmath}\"\n",
    "matplotlib.rc('text',usetex=True)\n",
    "import pylab as py\n",
    "from matplotlib import colors\n",
    "import matplotlib.gridspec as gridspec\n"
   ]
  },
  {
   "cell_type": "code",
   "execution_count": 4,
   "id": "d34af0e5-72be-40cd-8f1b-fc3d534039b7",
   "metadata": {},
   "outputs": [],
   "source": [
    "torch.set_default_dtype(torch.float64)"
   ]
  },
  {
   "cell_type": "code",
   "execution_count": 5,
   "id": "49d8ec92-03b7-495b-b035-cfb637440847",
   "metadata": {},
   "outputs": [],
   "source": [
    "# Xs = 10**torch.linspace(-3,-1.001,100)\n",
    "# Xs = torch.cat((Xs,torch.linspace(0.1,1,100)))\n",
    "Xs = torch.linspace(0,1,100)\n",
    "Vs = torch.exp(-Xs)"
   ]
  },
  {
   "cell_type": "code",
   "execution_count": 6,
   "id": "f03363c0-f238-49bb-87c9-f74422af1ff3",
   "metadata": {},
   "outputs": [
    {
     "data": {
      "text/plain": [
       "(tensor([0.0000, 0.0101, 0.0202, 0.0303, 0.0404, 0.0505, 0.0606, 0.0707, 0.0808,\n",
       "         0.0909, 0.1010, 0.1111, 0.1212, 0.1313, 0.1414, 0.1515, 0.1616, 0.1717,\n",
       "         0.1818, 0.1919, 0.2020, 0.2121, 0.2222, 0.2323, 0.2424, 0.2525, 0.2626,\n",
       "         0.2727, 0.2828, 0.2929, 0.3030, 0.3131, 0.3232, 0.3333, 0.3434, 0.3535,\n",
       "         0.3636, 0.3737, 0.3838, 0.3939, 0.4040, 0.4141, 0.4242, 0.4343, 0.4444,\n",
       "         0.4545, 0.4646, 0.4747, 0.4848, 0.4949, 0.5051, 0.5152, 0.5253, 0.5354,\n",
       "         0.5455, 0.5556, 0.5657, 0.5758, 0.5859, 0.5960, 0.6061, 0.6162, 0.6263,\n",
       "         0.6364, 0.6465, 0.6566, 0.6667, 0.6768, 0.6869, 0.6970, 0.7071, 0.7172,\n",
       "         0.7273, 0.7374, 0.7475, 0.7576, 0.7677, 0.7778, 0.7879, 0.7980, 0.8081,\n",
       "         0.8182, 0.8283, 0.8384, 0.8485, 0.8586, 0.8687, 0.8788, 0.8889, 0.8990,\n",
       "         0.9091, 0.9192, 0.9293, 0.9394, 0.9495, 0.9596, 0.9697, 0.9798, 0.9899,\n",
       "         1.0000]),\n",
       " tensor([1.0000, 0.9899, 0.9800, 0.9702, 0.9604, 0.9507, 0.9412, 0.9317, 0.9224,\n",
       "         0.9131, 0.9039, 0.8948, 0.8858, 0.8769, 0.8681, 0.8594, 0.8508, 0.8422,\n",
       "         0.8338, 0.8254, 0.8171, 0.8089, 0.8007, 0.7927, 0.7847, 0.7768, 0.7690,\n",
       "         0.7613, 0.7536, 0.7461, 0.7386, 0.7312, 0.7238, 0.7165, 0.7093, 0.7022,\n",
       "         0.6951, 0.6882, 0.6812, 0.6744, 0.6676, 0.6609, 0.6543, 0.6477, 0.6412,\n",
       "         0.6347, 0.6284, 0.6220, 0.6158, 0.6096, 0.6035, 0.5974, 0.5914, 0.5855,\n",
       "         0.5796, 0.5738, 0.5680, 0.5623, 0.5566, 0.5510, 0.5455, 0.5400, 0.5346,\n",
       "         0.5292, 0.5239, 0.5186, 0.5134, 0.5083, 0.5031, 0.4981, 0.4931, 0.4881,\n",
       "         0.4832, 0.4784, 0.4736, 0.4688, 0.4641, 0.4594, 0.4548, 0.4502, 0.4457,\n",
       "         0.4412, 0.4368, 0.4324, 0.4281, 0.4238, 0.4195, 0.4153, 0.4111, 0.4070,\n",
       "         0.4029, 0.3988, 0.3948, 0.3909, 0.3869, 0.3830, 0.3792, 0.3754, 0.3716,\n",
       "         0.3679]))"
      ]
     },
     "execution_count": 6,
     "metadata": {},
     "output_type": "execute_result"
    }
   ],
   "source": [
    "Xs,Vs"
   ]
  },
  {
   "cell_type": "code",
   "execution_count": 7,
   "id": "d4e4395d-6ee3-4c71-9496-6ae2ee86bc6a",
   "metadata": {},
   "outputs": [],
   "source": [
    "deltas = torch.empty((Vs.shape[0]+3,))"
   ]
  },
  {
   "cell_type": "code",
   "execution_count": 8,
   "id": "44204808-c77b-4a0b-bbd3-e1bcb8765d74",
   "metadata": {},
   "outputs": [],
   "source": [
    "deltas[2:-2] = (Vs[1:] - Vs[:-1]) / (Xs[1:] - Xs[:-1])"
   ]
  },
  {
   "cell_type": "code",
   "execution_count": 9,
   "id": "843bf587-72ca-43e7-aa4e-6fb8751b7259",
   "metadata": {},
   "outputs": [],
   "source": [
    "deltas[1] = 2 * deltas[2] - deltas[3]\n",
    "deltas[0] = 2 * deltas[1] - deltas[2]\n",
    "\n",
    "deltas[-2] = 2 * deltas[-3] - deltas[-4]\n",
    "deltas[-1] = 2 * deltas[-2] - deltas[-3]"
   ]
  },
  {
   "cell_type": "code",
   "execution_count": 10,
   "id": "ad70f684-39a1-4469-b8e8-796d4c545b1c",
   "metadata": {},
   "outputs": [
    {
     "data": {
      "text/plain": [
       "tensor([-1.0150, -1.0050, -0.9950, -0.9850, -0.9751, -0.9653, -0.9556, -0.9460,\n",
       "        -0.9365, -0.9270, -0.9177, -0.9085, -0.8994, -0.8903, -0.8814, -0.8725,\n",
       "        -0.8638, -0.8551, -0.8465, -0.8380, -0.8296, -0.8212, -0.8130, -0.8048,\n",
       "        -0.7967, -0.7887, -0.7808, -0.7729, -0.7652, -0.7575, -0.7499, -0.7423,\n",
       "        -0.7349, -0.7275, -0.7202, -0.7129, -0.7058, -0.6987, -0.6916, -0.6847,\n",
       "        -0.6778, -0.6710, -0.6643, -0.6576, -0.6510, -0.6444, -0.6380, -0.6315,\n",
       "        -0.6252, -0.6189, -0.6127, -0.6065, -0.6004, -0.5944, -0.5884, -0.5825,\n",
       "        -0.5767, -0.5709, -0.5651, -0.5594, -0.5538, -0.5483, -0.5427, -0.5373,\n",
       "        -0.5319, -0.5265, -0.5213, -0.5160, -0.5108, -0.5057, -0.5006, -0.4956,\n",
       "        -0.4906, -0.4857, -0.4808, -0.4760, -0.4712, -0.4664, -0.4618, -0.4571,\n",
       "        -0.4525, -0.4480, -0.4435, -0.4390, -0.4346, -0.4302, -0.4259, -0.4216,\n",
       "        -0.4174, -0.4132, -0.4090, -0.4049, -0.4009, -0.3968, -0.3928, -0.3889,\n",
       "        -0.3850, -0.3811, -0.3773, -0.3735, -0.3697, -0.3660, -0.3622])"
      ]
     },
     "execution_count": 10,
     "metadata": {},
     "output_type": "execute_result"
    }
   ],
   "source": [
    "deltas"
   ]
  },
  {
   "cell_type": "code",
   "execution_count": 11,
   "id": "be433dc3-7fff-4758-ad21-e0eee93551e6",
   "metadata": {},
   "outputs": [
    {
     "data": {
      "text/plain": [
       "tensor(0.0038)"
      ]
     },
     "execution_count": 11,
     "metadata": {},
     "output_type": "execute_result"
    }
   ],
   "source": [
    "deltas[-3] - deltas[-4]"
   ]
  },
  {
   "cell_type": "code",
   "execution_count": 12,
   "id": "c590bda8-cd9d-4c2d-a26a-e648ed5cf23c",
   "metadata": {},
   "outputs": [
    {
     "data": {
      "text/plain": [
       "torch.Size([100])"
      ]
     },
     "execution_count": 12,
     "metadata": {},
     "output_type": "execute_result"
    }
   ],
   "source": [
    "w1s = torch.abs(deltas[3:]-deltas[2:-1])\n",
    "w1s.shape"
   ]
  },
  {
   "cell_type": "code",
   "execution_count": 13,
   "id": "eabb1324-695d-48de-a38e-fef8f0eff230",
   "metadata": {},
   "outputs": [
    {
     "data": {
      "text/plain": [
       "tensor(0.0038)"
      ]
     },
     "execution_count": 13,
     "metadata": {},
     "output_type": "execute_result"
    }
   ],
   "source": [
    "w1s[-1]"
   ]
  },
  {
   "cell_type": "code",
   "execution_count": 14,
   "id": "e232459f-8783-4609-b409-a41012ffc64a",
   "metadata": {},
   "outputs": [],
   "source": [
    "w2s = torch.abs(deltas[1:-2] - deltas[:-3])"
   ]
  },
  {
   "cell_type": "code",
   "execution_count": 15,
   "id": "2409b3fd-0210-4c10-ab27-8daa5b43a9e2",
   "metadata": {},
   "outputs": [
    {
     "data": {
      "text/plain": [
       "torch.Size([100])"
      ]
     },
     "execution_count": 15,
     "metadata": {},
     "output_type": "execute_result"
    }
   ],
   "source": [
    "w2s.shape"
   ]
  },
  {
   "cell_type": "code",
   "execution_count": 16,
   "id": "fb232528-1704-4414-a525-dccff8637c9d",
   "metadata": {},
   "outputs": [
    {
     "data": {
      "text/plain": [
       "tensor(0.0038)"
      ]
     },
     "execution_count": 16,
     "metadata": {},
     "output_type": "execute_result"
    }
   ],
   "source": [
    "w2s[-1]"
   ]
  },
  {
   "cell_type": "code",
   "execution_count": 17,
   "id": "c3f50d6a-44f1-4420-b231-bdca45b65558",
   "metadata": {},
   "outputs": [
    {
     "data": {
      "text/plain": [
       "tensor([-1.0150, -1.0050, -0.9950, -0.9850, -0.9751, -0.9653, -0.9556, -0.9460,\n",
       "        -0.9365, -0.9270, -0.9177, -0.9085, -0.8994, -0.8903, -0.8814, -0.8725,\n",
       "        -0.8638, -0.8551, -0.8465, -0.8380, -0.8296, -0.8212, -0.8130, -0.8048,\n",
       "        -0.7967, -0.7887, -0.7808, -0.7729, -0.7652, -0.7575, -0.7499, -0.7423,\n",
       "        -0.7349, -0.7275, -0.7202, -0.7129, -0.7058, -0.6987, -0.6916, -0.6847,\n",
       "        -0.6778, -0.6710, -0.6643, -0.6576, -0.6510, -0.6444, -0.6380, -0.6315,\n",
       "        -0.6252, -0.6189, -0.6127, -0.6065, -0.6004, -0.5944, -0.5884, -0.5825,\n",
       "        -0.5767, -0.5709, -0.5651, -0.5594, -0.5538, -0.5483, -0.5427, -0.5373,\n",
       "        -0.5319, -0.5265, -0.5213, -0.5160, -0.5108, -0.5057, -0.5006, -0.4956,\n",
       "        -0.4906, -0.4857, -0.4808, -0.4760, -0.4712, -0.4664, -0.4618, -0.4571,\n",
       "        -0.4525, -0.4480, -0.4435, -0.4390, -0.4346, -0.4302, -0.4259, -0.4216,\n",
       "        -0.4174, -0.4132, -0.4090, -0.4049, -0.4009, -0.3968, -0.3928, -0.3889,\n",
       "        -0.3850, -0.3811, -0.3773, -0.3735, -0.3697, -0.3660])"
      ]
     },
     "execution_count": 17,
     "metadata": {},
     "output_type": "execute_result"
    }
   ],
   "source": [
    "deltas[:-1]"
   ]
  },
  {
   "cell_type": "code",
   "execution_count": 18,
   "id": "05a84280-6b84-42f2-8123-22b30a32c9b1",
   "metadata": {},
   "outputs": [
    {
     "data": {
      "text/plain": [
       "tensor(0.0100)"
      ]
     },
     "execution_count": 18,
     "metadata": {},
     "output_type": "execute_result"
    }
   ],
   "source": [
    "w1s[0]"
   ]
  },
  {
   "cell_type": "code",
   "execution_count": 19,
   "id": "bddd806b-6912-4633-8743-130003f6470d",
   "metadata": {},
   "outputs": [
    {
     "data": {
      "text/plain": [
       "tensor(0.0100)"
      ]
     },
     "execution_count": 19,
     "metadata": {},
     "output_type": "execute_result"
    }
   ],
   "source": [
    "deltas[2]-deltas[1]"
   ]
  },
  {
   "cell_type": "code",
   "execution_count": 20,
   "id": "d11b3c93-1443-4afc-9eb6-486109c24ad6",
   "metadata": {},
   "outputs": [],
   "source": [
    "ds = w1s / (w1s + w2s) * deltas[1:-2] + w2s / (w1s + w2s) * deltas[2:-1]"
   ]
  },
  {
   "cell_type": "code",
   "execution_count": 21,
   "id": "38cf5ef1-78bb-41b9-b649-75ca7235715f",
   "metadata": {},
   "outputs": [
    {
     "data": {
      "text/plain": [
       "tensor([-1.0000, -0.9899, -0.9800, -0.9701, -0.9604, -0.9507, -0.9412, -0.9317,\n",
       "        -0.9223, -0.9131, -0.9039, -0.8948, -0.8858, -0.8769, -0.8681, -0.8594,\n",
       "        -0.8507, -0.8422, -0.8337, -0.8253, -0.8171, -0.8088, -0.8007, -0.7927,\n",
       "        -0.7847, -0.7768, -0.7690, -0.7613, -0.7536, -0.7460, -0.7386, -0.7311,\n",
       "        -0.7238, -0.7165, -0.7093, -0.7022, -0.6951, -0.6881, -0.6812, -0.6744,\n",
       "        -0.6676, -0.6609, -0.6542, -0.6477, -0.6412, -0.6347, -0.6283, -0.6220,\n",
       "        -0.6158, -0.6096, -0.6035, -0.5974, -0.5914, -0.5854, -0.5796, -0.5737,\n",
       "        -0.5680, -0.5623, -0.5566, -0.5510, -0.5455, -0.5400, -0.5346, -0.5292,\n",
       "        -0.5239, -0.5186, -0.5134, -0.5082, -0.5031, -0.4981, -0.4931, -0.4881,\n",
       "        -0.4832, -0.4784, -0.4735, -0.4688, -0.4641, -0.4594, -0.4548, -0.4502,\n",
       "        -0.4457, -0.4412, -0.4368, -0.4324, -0.4280, -0.4237, -0.4195, -0.4153,\n",
       "        -0.4111, -0.4070, -0.4029, -0.3988, -0.3948, -0.3909, -0.3869, -0.3830,\n",
       "        -0.3792, -0.3754, -0.3716, -0.3679])"
      ]
     },
     "execution_count": 21,
     "metadata": {},
     "output_type": "execute_result"
    }
   ],
   "source": [
    "ds"
   ]
  },
  {
   "cell_type": "code",
   "execution_count": 22,
   "id": "805755a5-be4d-47ae-a897-4c040a403f85",
   "metadata": {},
   "outputs": [],
   "source": [
    "hs = Xs[1:] - Xs[:-1]"
   ]
  },
  {
   "cell_type": "code",
   "execution_count": 23,
   "id": "b222a667-f7ed-458f-bf12-7193e8e48970",
   "metadata": {},
   "outputs": [],
   "source": [
    "def locate(x,Xs):\n",
    "    \"\"\"\n",
    "    x is a tensor of points to interpolate to\n",
    "    Xs is the grid\n",
    "\n",
    "    We should add a failsafe here for x outside the range\n",
    "    \"\"\"\n",
    "    idx = torch.searchsorted(Xs,x) - 1\n",
    "    return idx,idx+1"
   ]
  },
  {
   "cell_type": "code",
   "execution_count": 27,
   "id": "d85082e2-ccaf-4e9e-befe-87c738a53699",
   "metadata": {},
   "outputs": [],
   "source": [
    "#ks,ksp1 = locate(torch.tensor([1.1]),Xs)#.shape"
   ]
  },
  {
   "cell_type": "code",
   "execution_count": 29,
   "id": "a5441267-925e-4ab2-b2e5-b763c27d1c23",
   "metadata": {},
   "outputs": [],
   "source": [
    "#Xs[ks],Xs[ksp1]\n",
    "#locate(1,Xs)"
   ]
  },
  {
   "cell_type": "code",
   "execution_count": 30,
   "id": "84c8718a-b58a-4e59-9c2e-40b0871a0bfa",
   "metadata": {},
   "outputs": [],
   "source": [
    "def P(x,Xs,vs,ds):\n",
    "    x = torch.clamp(x, Xs[0], Xs[-1])\n",
    "    \n",
    "    k,kp1 = locate(x,Xs)\n",
    "    \n",
    "    #s = x - Xs[k]\n",
    "    h = Xs[kp1] - Xs[k]\n",
    "    theta = (x - Xs[k]) / h\n",
    "\n",
    "    #term1 = (3 * h * s**2 - 2 * s**3) / h**3 * vs[kp1]\n",
    "    mult1 = (3 * theta**2 - 2 * theta**3)\n",
    "    term1 = mult1 * vs[kp1]\n",
    "    #term2 = (h**3 - 3 * h * s**2 + 2 * s**3) / h**3 * vs[k]\n",
    "    term2 = (1 - mult1) * vs[k]\n",
    "    #term3 = (s**2 * (s - h)) / h**2 * ds[kp1]\n",
    "    term3 = (theta**2 * h * (theta - 1) ) * ds[kp1]\n",
    "    #term4 = (s * (s - h)**2) / h**2 * ds[k]\n",
    "    term4 = (theta * h * (theta - 1)**2 ) * ds[k]\n",
    "    return term1 + term2 + term3 + term4"
   ]
  },
  {
   "cell_type": "code",
   "execution_count": 31,
   "id": "8fbad2a3-bac9-4941-a136-50b15b34a561",
   "metadata": {},
   "outputs": [],
   "source": [
    "\n",
    "xrand = 1e-3 + torch.rand(25) * (1 - 1e-3)\n",
    "\n",
    "int_vals = P(xrand,Xs,Vs,ds)\n",
    "tru_vals = torch.exp(-xrand)\n",
    "\n"
   ]
  },
  {
   "cell_type": "code",
   "execution_count": 306,
   "id": "a12fbd7d-c091-4561-b354-2d86285f038f",
   "metadata": {},
   "outputs": [
    {
     "data": {
      "text/plain": [
       "Text(0, 0.5, '$\\\\rm rel.~diff.$')"
      ]
     },
     "execution_count": 306,
     "metadata": {},
     "output_type": "execute_result"
    },
    {
     "data": {
      "image/png": "[encoded data removed]",
      "text/plain": [
       "<Figure size 1600x600 with 2 Axes>"
      ]
     },
     "metadata": {},
     "output_type": "display_data"
    }
   ],
   "source": [
    "nrows,ncols = 1,2\n",
    "py.figure(figsize=(8*ncols,6*nrows))\n",
    "\n",
    "ax=py.subplot(nrows,ncols,1)\n",
    "ax.plot(Xs,Vs,'gray',label=r'$\\rm grid$')\n",
    "ax.plot(xrand,int_vals,'r*',label=r'$\\rm interpolated$')\n",
    "ax.plot(xrand,tru_vals,'bs',label=r'$\\rm true$')\n",
    "\n",
    "ax.tick_params(direction='in',labelsize=18)\n",
    "ax.legend(fontsize=18)\n",
    "ax.set_xlabel(r'$x$',size=30)\n",
    "ax.set_ylabel(r'$e^{-x}$',size=30)\n",
    "\n",
    "ax=py.subplot(nrows,ncols,2)\n",
    "ax.plot(xrand,torch.abs(int_vals-tru_vals)/tru_vals,'r.')\n",
    "# ax.semilogx()\n",
    "# ax.semilogy()\n",
    "\n",
    "ax.tick_params(direction='in',labelsize=18)\n",
    "ax.set_xlabel(r'$x$',size=30)\n",
    "ax.set_ylabel(r'$\\rm rel.~diff.$',size=30)"
   ]
  },
  {
   "cell_type": "code",
   "execution_count": 57,
   "id": "a7c7bf15-7ebb-46c5-85d3-c8a1244c96ab",
   "metadata": {},
   "outputs": [
    {
     "data": {
      "text/plain": [
       "tensor([0.0729])"
      ]
     },
     "execution_count": 57,
     "metadata": {},
     "output_type": "execute_result"
    }
   ],
   "source": [
    "xrand[torch.max(torch.abs(int_vals-tru_vals)/tru_vals) == (torch.abs(int_vals-tru_vals)/tru_vals)]"
   ]
  },
  {
   "cell_type": "code",
   "execution_count": 368,
   "id": "64247724-5a94-46b3-b7ae-10377b69b1c3",
   "metadata": {},
   "outputs": [],
   "source": [
    "def modified_akima_2D(x, y, z_grid, x_grid, y_grid):\n",
    "    ###Assume z_grid is x by y\n",
    "    delta_x = torch.empty((z_grid.shape[0]+3,z_grid.shape[1]))\n",
    "    delta_x[2:-2] = (z_grid[1:] - z_grid[:-1]) / (x_grid[1:,None] - x_grid[:-1,None])\n",
    "    delta_x[1] = 2 * delta_x[2] - delta_x[3]\n",
    "    delta_x[0] = 2 * delta_x[1] - delta_x[2]\n",
    "    delta_x[-2] = 2 * delta_x[-3] - delta_x[-4]\n",
    "    delta_x[-1] = 2 * delta_x[-2] - delta_x[-3]\n",
    "\n",
    "    delta_y = torch.empty((z_grid.shape[0],z_grid.shape[1]+3))\n",
    "    delta_y[:,2:-2] = (z_grid[:,1:] - z_grid[:,:-1]) / (y_grid[None,1:] - y_grid[None,:-1])\n",
    "    delta_y[:,1] = 2 * delta_y[:,2] - delta_y[:,3]\n",
    "    delta_y[:,0] = 2 * delta_y[:,1] - delta_y[:,2]\n",
    "    delta_y[:,-2] = 2 * delta_y[:,-3] - delta_y[:,-4]\n",
    "    delta_y[:,-1] = 2 * delta_y[:,-2] - delta_y[:,-3]\n",
    "\n",
    "    delta_xy = torch.empty((delta_x.shape[0], delta_y.shape[1]))\n",
    "    delta_xy[:,2:-2] = (delta_x[:,1:] - delta_x[:,:-1]) / (y_grid[None,1:] - y_grid[None, :-1])\n",
    "    delta_xy[:,1] = 2 * delta_xy[:,2] - delta_xy[:,3]\n",
    "    delta_xy[:,0] = 2 * delta_xy[:,1] - delta_xy[:,2]\n",
    "    delta_xy[:,-2] = 2 * delta_xy[:,-3] - delta_xy[:,-4]\n",
    "    delta_xy[:,-1] = 2 * delta_xy[:,-2] - delta_xy[:,-3]\n",
    "\n",
    "    w1_x = torch.abs(delta_x[3:] - delta_x[2:-1]) + torch.abs(delta_x[3:] + delta_x[2:-1]) / 2\n",
    "    w2_x = torch.abs(delta_x[1:-2] - delta_x[:-3]) + torch.abs(delta_x[1:-2] + delta_x[:-3]) / 2\n",
    "\n",
    "    d_x = (w1_x * delta_x[1:-2] + w2_x * delta_x[2:-1]) / (w1_x + w2_x)\n",
    "    \n",
    "    w1_y = torch.abs(delta_y[:,3:] - delta_y[:,2:-1]) + torch.abs(delta_y[:,3:] + delta_y[:,2:-1]) / 2\n",
    "    w2_y = torch.abs(delta_y[:,1:-2] - delta_y[:,:-3]) + torch.abs(delta_y[:,1:-2] + delta_y[:,:-3]) / 2\n",
    "\n",
    "    d_y = (w1_y * delta_y[:,1:-2] + w2_y * delta_y[:,2:-1]) / (w1_y + w2_y)\n",
    "\n",
    "    d_xy = ( (w1_x * (w1_y * delta_xy[1:-2,1:-2] + w2_y * delta_xy[1:-2,2:-1]) + \n",
    "              w2_x * (w1_y * delta_xy[2:-1,1:-2] + w2_y * delta_xy[2:-1,2:-1])) / \n",
    "              ((w1_x + w2_x) * (w1_y + w2_y)) )\n",
    "\n",
    "    ### Modified Akima sets NaN values (from cases where data is constant for more than two nodes) to 0.\n",
    "    ### This change prevents overshoot in that range\n",
    "    d_x = torch.nan_to_num(d_x)\n",
    "    d_y = torch.nan_to_num(d_y)\n",
    "    d_xy = torch.nan_to_num(d_xy)\n",
    "    #print(d_x)\n",
    "    #print(d_y)\n",
    "    #print(d_xy)\n",
    "\n",
    "    ### torch.clamp handles x-values outisde boundaries ( x< x_min -> x_min, x>x_max -> x_max ) \n",
    "    x = torch.clamp(x, x_grid[0], x_grid[-1])\n",
    "    y = torch.clamp(y, y_grid[0], y_grid[-1])\n",
    "\n",
    "    ### locate returns the indices of the left and right nearest points\n",
    "    xk, xkp1 = locate(x, x_grid)\n",
    "    xk = xk[:,None]\n",
    "    xkp1 = xkp1[:,None]\n",
    "    yk, ykp1 = locate(y, y_grid)\n",
    "    \n",
    "    ### h_ is the separation between the two nearest nodes\n",
    "    ### theta_ is how far the interpolated point in from the left node relative to h_\n",
    "    h_x = x_grid[xkp1] - x_grid[xk]\n",
    "    h_y = y_grid[ykp1] - y_grid[yk]\n",
    "    h_xy = h_x * h_y\n",
    "    \n",
    "    theta_x = (x - x_grid[xk][:,0]) / h_x[:,0]\n",
    "    theta_y = (y - y_grid[yk]) / h_y\n",
    "\n",
    "    theta_y = torch.nan_to_num(theta_y)\n",
    "    \n",
    "    base_mat = torch.tensor([ [1.,0.,-3.,2.], [0.,0.,3.,-2.], [0.,1.,-2.,1.], [0.,0.,-1.,1.] ])\n",
    "    coeff_mat = torch.stack([torch.stack([z_grid[xk,yk], z_grid[xk, ykp1], h_y * d_y[xk,yk], h_y * d_y[xk,ykp1]],axis=-1),\n",
    "                              torch.stack([z_grid[xkp1,yk], z_grid[xkp1, ykp1], h_y * d_y[xkp1,yk], h_y * d_y[xkp1,ykp1]],axis=-1),\n",
    "                              torch.stack([h_x * d_x[xk,yk], h_x * d_x[xk,ykp1], h_xy * d_xy[xk,yk], h_xy * d_xy[xk,ykp1]],axis=-1),\n",
    "                              torch.stack([h_x * d_x[xkp1,yk], h_x * d_x[xkp1,ykp1], h_xy * d_xy[xkp1,yk], h_xy * d_xy[xkp1,ykp1]],axis=-1)\n",
    "                             ], axis=-2)\n",
    "    \n",
    "    theta_x_vec = torch.stack([torch.ones(theta_x.shape), theta_x, theta_x**2, theta_x**3],axis=-1)\n",
    "    theta_y_vec = torch.stack([torch.ones(theta_y.shape), theta_y, theta_y**2, theta_y**3],axis=-1)\n",
    "    \n",
    "    M1 = torch.matmul(base_mat,coeff_mat)\n",
    "    M2 = torch.matmul(base_mat.T[None,None], theta_y_vec[None,:,:,None])\n",
    "    M3 = torch.matmul(M1, M2)\n",
    "    \n",
    "    return torch.matmul(theta_x_vec[:,None,None,:], M3).squeeze()"
   ]
  },
  {
   "cell_type": "code",
   "execution_count": 369,
   "id": "7711c28a-045c-4c6e-b41c-14bac44b917b",
   "metadata": {},
   "outputs": [],
   "source": [
    "x_vals = torch.linspace(1e-4,1,150)\n",
    "bT_vals_lin = torch.linspace(1e-3,10,100)\n",
    "bT_vals_log = torch.logspace(-3, 1, 100)"
   ]
  },
  {
   "cell_type": "code",
   "execution_count": 370,
   "id": "6c4d2858-ca53-4016-8e18-4c47d034bfc0",
   "metadata": {},
   "outputs": [],
   "source": [
    "ff1_bt = lambda bT : torch.special.scaled_modified_bessel_k0(bT)*torch.exp(-bT)\n",
    "ff2_bt = lambda bT, a=1 : (1/(a**2))*torch.exp(-bT**2/(2*a**2))\n",
    "def ff3_bt(bT,x,a=1):\n",
    "    r = (torch.tanh(-0.08*(bT-0.6)+1)/2)\n",
    "    return (r*bT*ff1_bt(bT) + (1-r)*bT*ff2_bt(bT,a))\n",
    "\n",
    "def ff3_bt_x(x,bT,a=1):\n",
    "    x_func = x**(-0.5) * (1-x)**3\n",
    "    return x_func *ff3_bt(bT,x,a)"
   ]
  },
  {
   "cell_type": "code",
   "execution_count": 374,
   "id": "83b725ad-5861-4e9f-87ba-a93e49b19a60",
   "metadata": {},
   "outputs": [
    {
     "name": "stdout",
     "output_type": "stream",
     "text": [
      "tensor([[3.3512e-01, 1.5747e+01, 2.5845e+01,  ..., 2.7790e-03, 2.4514e-03,\n",
      "         2.1600e-03],\n",
      "        [3.9795e-02, 1.8699e+00, 3.0690e+00,  ..., 3.3001e-04, 2.9110e-04,\n",
      "         2.5649e-04],\n",
      "        [2.7675e-02, 1.3004e+00, 2.1343e+00,  ..., 2.2950e-04, 2.0244e-04,\n",
      "         1.7837e-04],\n",
      "        ...,\n",
      "        [8.1596e-09, 3.8340e-07, 6.2927e-07,  ..., 6.7664e-11, 5.9686e-11,\n",
      "         5.2591e-11],\n",
      "        [1.0165e-09, 4.7763e-08, 7.8393e-08,  ..., 8.4294e-12, 7.4355e-12,\n",
      "         6.5516e-12],\n",
      "        [0.0000e+00, 0.0000e+00, 0.0000e+00,  ..., 0.0000e+00, 0.0000e+00,\n",
      "         0.0000e+00]])\n"
     ]
    },
    {
     "data": {
      "text/plain": [
       "tensor(1.6972)"
      ]
     },
     "execution_count": 374,
     "metadata": {},
     "output_type": "execute_result"
    }
   ],
   "source": [
    "#func_grid=ff3_bt_x(x_vals[:,None],torch.tensor([1])) #bT_vals_lin)\n",
    "func_grid=ff3_bt_x(x_vals[:,None],bT_vals_lin)\n",
    "print(func_grid)\n",
    "modified_akima_2D(x_vals[0][None], bT_vals_lin[-1][None], func_grid, x_vals, bT_vals_lin)"
   ]
  },
  {
   "cell_type": "code",
   "execution_count": 360,
   "id": "bce67fcf-8a42-490e-ab28-ed76e99ee412",
   "metadata": {},
   "outputs": [
    {
     "name": "stdout",
     "output_type": "stream",
     "text": [
      "tensor([[-9.1035e+03],\n",
      "        [-4.3124e+02],\n",
      "        [-1.3389e+02],\n",
      "        [-9.0310e+01],\n",
      "        [-6.2493e+01],\n",
      "        [-4.6283e+01],\n",
      "        [-3.6063e+01],\n",
      "        [-2.9166e+01],\n",
      "        [-2.4259e+01],\n",
      "        [-2.0620e+01],\n",
      "        [-1.7830e+01],\n",
      "        [-1.5634e+01],\n",
      "        [-1.3866e+01],\n",
      "        [-1.2417e+01],\n",
      "        [-1.1209e+01],\n",
      "        [-1.0190e+01],\n",
      "        [-9.3186e+00],\n",
      "        [-8.5665e+00],\n",
      "        [-7.9113e+00],\n",
      "        [-7.3358e+00],\n",
      "        [-6.8267e+00],\n",
      "        [-6.3733e+00],\n",
      "        [-5.9671e+00],\n",
      "        [-5.6014e+00],\n",
      "        [-5.2703e+00],\n",
      "        [-4.9694e+00],\n",
      "        [-4.6947e+00],\n",
      "        [-4.4430e+00],\n",
      "        [-4.2115e+00],\n",
      "        [-3.9980e+00],\n",
      "        [-3.8005e+00],\n",
      "        [-3.6172e+00],\n",
      "        [-3.4467e+00],\n",
      "        [-3.2876e+00],\n",
      "        [-3.1390e+00],\n",
      "        [-2.9998e+00],\n",
      "        [-2.8691e+00],\n",
      "        [-2.7463e+00],\n",
      "        [-2.6305e+00],\n",
      "        [-2.5213e+00],\n",
      "        [-2.4181e+00],\n",
      "        [-2.3205e+00],\n",
      "        [-2.2279e+00],\n",
      "        [-2.1400e+00],\n",
      "        [-2.0566e+00],\n",
      "        [-1.9772e+00],\n",
      "        [-1.9015e+00],\n",
      "        [-1.8294e+00],\n",
      "        [-1.7606e+00],\n",
      "        [-1.6949e+00],\n",
      "        [-1.6321e+00],\n",
      "        [-1.5719e+00],\n",
      "        [-1.5143e+00],\n",
      "        [-1.4591e+00],\n",
      "        [-1.4061e+00],\n",
      "        [-1.3553e+00],\n",
      "        [-1.3065e+00],\n",
      "        [-1.2596e+00],\n",
      "        [-1.2144e+00],\n",
      "        [-1.1710e+00],\n",
      "        [-1.1292e+00],\n",
      "        [-1.0889e+00],\n",
      "        [-1.0501e+00],\n",
      "        [-1.0127e+00],\n",
      "        [-9.7660e-01],\n",
      "        [-9.4176e-01],\n",
      "        [-9.0813e-01],\n",
      "        [-8.7566e-01],\n",
      "        [-8.4428e-01],\n",
      "        [-8.1397e-01],\n",
      "        [-7.8466e-01],\n",
      "        [-7.5632e-01],\n",
      "        [-7.2890e-01],\n",
      "        [-7.0238e-01],\n",
      "        [-6.7672e-01],\n",
      "        [-6.5188e-01],\n",
      "        [-6.2783e-01],\n",
      "        [-6.0455e-01],\n",
      "        [-5.8200e-01],\n",
      "        [-5.6016e-01],\n",
      "        [-5.3900e-01],\n",
      "        [-5.1850e-01],\n",
      "        [-4.9864e-01],\n",
      "        [-4.7939e-01],\n",
      "        [-4.6074e-01],\n",
      "        [-4.4267e-01],\n",
      "        [-4.2515e-01],\n",
      "        [-4.0817e-01],\n",
      "        [-3.9171e-01],\n",
      "        [-3.7576e-01],\n",
      "        [-3.6031e-01],\n",
      "        [-3.4533e-01],\n",
      "        [-3.3081e-01],\n",
      "        [-3.1674e-01],\n",
      "        [-3.0311e-01],\n",
      "        [-2.8990e-01],\n",
      "        [-2.7711e-01],\n",
      "        [-2.6472e-01],\n",
      "        [-2.5272e-01],\n",
      "        [-2.4110e-01],\n",
      "        [-2.2985e-01],\n",
      "        [-2.1897e-01],\n",
      "        [-2.0844e-01],\n",
      "        [-1.9825e-01],\n",
      "        [-1.8839e-01],\n",
      "        [-1.7887e-01],\n",
      "        [-1.6966e-01],\n",
      "        [-1.6076e-01],\n",
      "        [-1.5217e-01],\n",
      "        [-1.4388e-01],\n",
      "        [-1.3588e-01],\n",
      "        [-1.2817e-01],\n",
      "        [-1.2073e-01],\n",
      "        [-1.1357e-01],\n",
      "        [-1.0667e-01],\n",
      "        [-1.0003e-01],\n",
      "        [-9.3654e-02],\n",
      "        [-8.7525e-02],\n",
      "        [-8.1642e-02],\n",
      "        [-7.6000e-02],\n",
      "        [-7.0594e-02],\n",
      "        [-6.5420e-02],\n",
      "        [-6.0473e-02],\n",
      "        [-5.5750e-02],\n",
      "        [-5.1245e-02],\n",
      "        [-4.6955e-02],\n",
      "        [-4.2876e-02],\n",
      "        [-3.9004e-02],\n",
      "        [-3.5336e-02],\n",
      "        [-3.1867e-02],\n",
      "        [-2.8596e-02],\n",
      "        [-2.5518e-02],\n",
      "        [-2.2630e-02],\n",
      "        [-1.9929e-02],\n",
      "        [-1.7412e-02],\n",
      "        [-1.5076e-02],\n",
      "        [-1.2918e-02],\n",
      "        [-1.0936e-02],\n",
      "        [-9.1263e-03],\n",
      "        [-7.4867e-03],\n",
      "        [-6.0148e-03],\n",
      "        [-4.7080e-03],\n",
      "        [-3.5641e-03],\n",
      "        [-2.5809e-03],\n",
      "        [-1.7565e-03],\n",
      "        [-1.0890e-03],\n",
      "        [-5.7760e-04],\n",
      "        [-2.2273e-04],\n",
      "        [-5.9636e-05],\n",
      "        [ 3.6656e-05]])\n",
      "tensor([[  0.0000e+00],\n",
      "        [ 9.7319e-114],\n",
      "        [  0.0000e+00],\n",
      "        [  0.0000e+00],\n",
      "        [  0.0000e+00],\n",
      "        [  0.0000e+00],\n",
      "        [  0.0000e+00],\n",
      "        [  0.0000e+00],\n",
      "        [  0.0000e+00],\n",
      "        [  0.0000e+00],\n",
      "        [  0.0000e+00],\n",
      "        [  0.0000e+00],\n",
      "        [  0.0000e+00],\n",
      "        [-6.7931e-153],\n",
      "        [ 7.9657e-154],\n",
      "        [  0.0000e+00],\n",
      "        [  0.0000e+00],\n",
      "        [ 7.8175e-154],\n",
      "        [  0.0000e+00],\n",
      "        [ 2.3549e-152],\n",
      "        [  9.6512e-47],\n",
      "        [  0.0000e+00],\n",
      "        [  0.0000e+00],\n",
      "        [  0.0000e+00],\n",
      "        [  0.0000e+00],\n",
      "        [  0.0000e+00],\n",
      "        [  1.6501e-76],\n",
      "        [  0.0000e+00],\n",
      "        [  0.0000e+00],\n",
      "        [  0.0000e+00],\n",
      "        [  0.0000e+00],\n",
      "        [  0.0000e+00],\n",
      "        [  0.0000e+00],\n",
      "        [  4.7719e-62],\n",
      "        [  0.0000e+00],\n",
      "        [  0.0000e+00],\n",
      "        [ 1.7977e+308],\n",
      "        [ 7.9657e-154],\n",
      "        [  0.0000e+00],\n",
      "        [ 1.0644e+141],\n",
      "        [ 7.8175e-154],\n",
      "        [-1.7977e+308],\n",
      "        [-3.3533e+130],\n",
      "        [ -4.7599e-77],\n",
      "        [-2.2551e-154],\n",
      "        [ -8.6840e-53],\n",
      "        [-3.8655e+135],\n",
      "        [-2.2551e-154],\n",
      "        [ -1.9524e-90],\n",
      "        [  1.6501e-76],\n",
      "        [ -2.0998e-67],\n",
      "        [ -2.0500e-95],\n",
      "        [ 1.3400e+136],\n",
      "        [  0.0000e+00],\n",
      "        [-2.2978e-154],\n",
      "        [ 7.8181e-154],\n",
      "        [-3.2489e+140],\n",
      "        [-2.2551e-154],\n",
      "        [ -2.5584e-38],\n",
      "        [-6.7931e-153],\n",
      "        [ -2.7840e-47],\n",
      "        [ -2.2502e-67],\n",
      "        [-2.2551e-154],\n",
      "        [  0.0000e+00],\n",
      "        [-1.7977e+308],\n",
      "        [-3.3533e+130],\n",
      "        [  0.0000e+00],\n",
      "        [  7.8007e-67],\n",
      "        [  0.0000e+00],\n",
      "        [  1.1917e-71],\n",
      "        [ 1.7977e+308],\n",
      "        [ 1.1625e+131],\n",
      "        [  0.0000e+00],\n",
      "        [ -3.2045e-72],\n",
      "        [  5.1132e-62],\n",
      "        [ 1.3400e+136],\n",
      "        [ 7.8175e-154],\n",
      "        [  6.7635e-90],\n",
      "        [  0.0000e+00],\n",
      "        [-3.2489e+140],\n",
      "        [  7.1077e-95],\n",
      "        [ 7.8175e-154],\n",
      "        [ 1.7977e+308],\n",
      "        [ 7.9657e-154],\n",
      "        [  5.8438e-86],\n",
      "        [ 1.1882e+141],\n",
      "        [ 7.8175e-154],\n",
      "        [  6.5680e-38],\n",
      "        [  0.0000e+00],\n",
      "        [  3.4288e-61],\n",
      "        [  5.1122e-62],\n",
      "        [ 7.8175e-154],\n",
      "        [  1.1196e-66],\n",
      "        [ 1.7977e+308],\n",
      "        [ 1.1625e+131],\n",
      "        [  1.6501e-76],\n",
      "        [ 7.8175e-154],\n",
      "        [  0.0000e+00],\n",
      "        [ 1.3400e+136],\n",
      "        [ 7.8175e-154],\n",
      "        [  6.7635e-90],\n",
      "        [ 7.8181e-154],\n",
      "        [  2.0508e-52],\n",
      "        [  7.1105e-95],\n",
      "        [ 7.8175e-154],\n",
      "        [ 1.7977e+308],\n",
      "        [ 7.9657e-154],\n",
      "        [  0.0000e+00],\n",
      "        [-1.7977e+308],\n",
      "        [ 1.7977e+308],\n",
      "        [  0.0000e+00],\n",
      "        [  0.0000e+00],\n",
      "        [  0.0000e+00],\n",
      "        [  0.0000e+00],\n",
      "        [  0.0000e+00],\n",
      "        [  0.0000e+00],\n",
      "        [  0.0000e+00],\n",
      "        [  0.0000e+00],\n",
      "        [  0.0000e+00],\n",
      "        [  0.0000e+00],\n",
      "        [  0.0000e+00],\n",
      "        [  0.0000e+00],\n",
      "        [  0.0000e+00],\n",
      "        [  0.0000e+00],\n",
      "        [  0.0000e+00],\n",
      "        [  0.0000e+00],\n",
      "        [  0.0000e+00],\n",
      "        [  0.0000e+00],\n",
      "        [  0.0000e+00],\n",
      "        [  0.0000e+00],\n",
      "        [  0.0000e+00],\n",
      "        [  0.0000e+00],\n",
      "        [  0.0000e+00],\n",
      "        [  0.0000e+00],\n",
      "        [  0.0000e+00],\n",
      "        [  0.0000e+00],\n",
      "        [  0.0000e+00],\n",
      "        [  0.0000e+00],\n",
      "        [  0.0000e+00],\n",
      "        [  0.0000e+00],\n",
      "        [  0.0000e+00],\n",
      "        [  0.0000e+00],\n",
      "        [  0.0000e+00],\n",
      "        [  0.0000e+00],\n",
      "        [  0.0000e+00],\n",
      "        [  0.0000e+00],\n",
      "        [  0.0000e+00],\n",
      "        [  0.0000e+00],\n",
      "        [  0.0000e+00],\n",
      "        [  0.0000e+00]])\n",
      "tensor([[ 0.0000e+00],\n",
      "        [ 0.0000e+00],\n",
      "        [ 0.0000e+00],\n",
      "        [ 0.0000e+00],\n",
      "        [ 0.0000e+00],\n",
      "        [ 0.0000e+00],\n",
      "        [ 0.0000e+00],\n",
      "        [ 0.0000e+00],\n",
      "        [ 0.0000e+00],\n",
      "        [ 0.0000e+00],\n",
      "        [ 0.0000e+00],\n",
      "        [ 0.0000e+00],\n",
      "        [ 0.0000e+00],\n",
      "        [ 0.0000e+00],\n",
      "        [ 0.0000e+00],\n",
      "        [ 0.0000e+00],\n",
      "        [ 0.0000e+00],\n",
      "        [ 0.0000e+00],\n",
      "        [ 0.0000e+00],\n",
      "        [ 0.0000e+00],\n",
      "        [ 0.0000e+00],\n",
      "        [ 0.0000e+00],\n",
      "        [ 0.0000e+00],\n",
      "        [ 0.0000e+00],\n",
      "        [ 0.0000e+00],\n",
      "        [ 0.0000e+00],\n",
      "        [ 0.0000e+00],\n",
      "        [ 0.0000e+00],\n",
      "        [ 0.0000e+00],\n",
      "        [ 0.0000e+00],\n",
      "        [ 0.0000e+00],\n",
      "        [ 0.0000e+00],\n",
      "        [ 0.0000e+00],\n",
      "        [ 0.0000e+00],\n",
      "        [ 0.0000e+00],\n",
      "        [ 0.0000e+00],\n",
      "        [ 0.0000e+00],\n",
      "        [ 0.0000e+00],\n",
      "        [ 0.0000e+00],\n",
      "        [ 0.0000e+00],\n",
      "        [ 0.0000e+00],\n",
      "        [ 0.0000e+00],\n",
      "        [ 0.0000e+00],\n",
      "        [ 0.0000e+00],\n",
      "        [ 0.0000e+00],\n",
      "        [ 0.0000e+00],\n",
      "        [ 0.0000e+00],\n",
      "        [ 0.0000e+00],\n",
      "        [ 0.0000e+00],\n",
      "        [ 0.0000e+00],\n",
      "        [ 0.0000e+00],\n",
      "        [ 0.0000e+00],\n",
      "        [ 0.0000e+00],\n",
      "        [ 0.0000e+00],\n",
      "        [ 0.0000e+00],\n",
      "        [ 0.0000e+00],\n",
      "        [ 0.0000e+00],\n",
      "        [ 0.0000e+00],\n",
      "        [ 0.0000e+00],\n",
      "        [ 0.0000e+00],\n",
      "        [ 0.0000e+00],\n",
      "        [ 0.0000e+00],\n",
      "        [ 0.0000e+00],\n",
      "        [ 0.0000e+00],\n",
      "        [ 0.0000e+00],\n",
      "        [ 0.0000e+00],\n",
      "        [ 0.0000e+00],\n",
      "        [ 0.0000e+00],\n",
      "        [ 0.0000e+00],\n",
      "        [ 0.0000e+00],\n",
      "        [ 0.0000e+00],\n",
      "        [ 0.0000e+00],\n",
      "        [ 0.0000e+00],\n",
      "        [ 0.0000e+00],\n",
      "        [ 0.0000e+00],\n",
      "        [ 0.0000e+00],\n",
      "        [ 0.0000e+00],\n",
      "        [ 0.0000e+00],\n",
      "        [ 0.0000e+00],\n",
      "        [ 0.0000e+00],\n",
      "        [ 0.0000e+00],\n",
      "        [ 0.0000e+00],\n",
      "        [ 0.0000e+00],\n",
      "        [ 0.0000e+00],\n",
      "        [ 0.0000e+00],\n",
      "        [ 0.0000e+00],\n",
      "        [ 0.0000e+00],\n",
      "        [ 0.0000e+00],\n",
      "        [ 0.0000e+00],\n",
      "        [ 0.0000e+00],\n",
      "        [ 0.0000e+00],\n",
      "        [ 0.0000e+00],\n",
      "        [ 0.0000e+00],\n",
      "        [ 0.0000e+00],\n",
      "        [ 0.0000e+00],\n",
      "        [ 0.0000e+00],\n",
      "        [ 0.0000e+00],\n",
      "        [ 0.0000e+00],\n",
      "        [ 0.0000e+00],\n",
      "        [ 0.0000e+00],\n",
      "        [ 0.0000e+00],\n",
      "        [ 0.0000e+00],\n",
      "        [ 0.0000e+00],\n",
      "        [ 0.0000e+00],\n",
      "        [ 0.0000e+00],\n",
      "        [ 0.0000e+00],\n",
      "        [ 0.0000e+00],\n",
      "        [ 0.0000e+00],\n",
      "        [ 0.0000e+00],\n",
      "        [3.6547e-310],\n",
      "        [ 0.0000e+00],\n",
      "        [ 0.0000e+00],\n",
      "        [ 0.0000e+00],\n",
      "        [ 0.0000e+00],\n",
      "        [ 0.0000e+00],\n",
      "        [ 0.0000e+00],\n",
      "        [ 0.0000e+00],\n",
      "        [ 0.0000e+00],\n",
      "        [ 0.0000e+00],\n",
      "        [ 0.0000e+00],\n",
      "        [ 0.0000e+00],\n",
      "        [ 0.0000e+00],\n",
      "        [ 0.0000e+00],\n",
      "        [ 0.0000e+00],\n",
      "        [ 0.0000e+00],\n",
      "        [ 0.0000e+00],\n",
      "        [ 0.0000e+00],\n",
      "        [ 0.0000e+00],\n",
      "        [ 0.0000e+00],\n",
      "        [ 0.0000e+00],\n",
      "        [ 0.0000e+00],\n",
      "        [ 0.0000e+00],\n",
      "        [ 0.0000e+00],\n",
      "        [ 0.0000e+00],\n",
      "        [ 0.0000e+00],\n",
      "        [ 0.0000e+00],\n",
      "        [ 0.0000e+00],\n",
      "        [ 0.0000e+00],\n",
      "        [ 0.0000e+00],\n",
      "        [ 0.0000e+00],\n",
      "        [ 0.0000e+00],\n",
      "        [ 0.0000e+00],\n",
      "        [ 0.0000e+00],\n",
      "        [ 0.0000e+00],\n",
      "        [ 0.0000e+00],\n",
      "        [ 0.0000e+00],\n",
      "        [ 0.0000e+00],\n",
      "        [ 0.0000e+00],\n",
      "        [ 0.0000e+00],\n",
      "        [ 0.0000e+00]])\n"
     ]
    },
    {
     "data": {
      "text/plain": [
       "tensor([3.0440e+00, 1.4600e-01, 1.7996e+00, 1.4212e-01, 2.3258e-02, 1.6491e+00,\n",
       "        3.7433e-01, 1.3378e+00, 1.5586e-01, 1.2439e-03, 1.8457e-03, 1.2418e-01,\n",
       "        1.9929e-02, 1.2993e-02, 1.6968e-01, 4.0349e-01, 6.4638e-01, 1.3843e+00,\n",
       "        1.8314e+00, 1.0146e+00, 2.4087e+00, 9.9221e-01, 4.8479e-02, 5.2517e-03,\n",
       "        9.8813e-02])"
      ]
     },
     "execution_count": 360,
     "metadata": {},
     "output_type": "execute_result"
    }
   ],
   "source": [
    "#bT_rand = bT_vals_lin[0] + torch.rand(25) * (bT_vals_lin[-1] - bT_vals_lin[0])\n",
    "x_rand = torch.rand(25)\n",
    "akima_vals=modified_akima_2D(x_rand, torch.tensor([1]), func_grid, x_vals, torch.tensor([1])) #bT_vals_lin)\n",
    "akima_vals"
   ]
  },
  {
   "cell_type": "code",
   "execution_count": 362,
   "id": "a2ba0f85-f0bb-4590-acd3-973ea431b9a4",
   "metadata": {},
   "outputs": [
    {
     "data": {
      "text/plain": [
       "tensor([1.7056e+00, 1.3917e-01, 9.0917e-01, 7.3059e-02, 1.8448e-02, 9.6026e-01,\n",
       "        3.4274e-01, 7.9775e-01, 1.0851e-01, 9.6175e-04, 1.0649e-03, 7.3574e-02,\n",
       "        9.5190e-03, 8.1919e-03, 1.3058e-01, 2.1385e-01, 4.8561e-01, 1.0216e+00,\n",
       "        1.6709e+00, 8.9452e-01, 2.1159e+00, 4.7651e-01, 2.3361e-02, 2.4737e-03,\n",
       "        6.7037e-02])"
      ]
     },
     "execution_count": 362,
     "metadata": {},
     "output_type": "execute_result"
    }
   ],
   "source": [
    "ff3_bt_x(x_rand,torch.tensor([1]))"
   ]
  },
  {
   "cell_type": "code",
   "execution_count": 363,
   "id": "6ed6463f-b8a6-4356-9c5f-0b4191dc413b",
   "metadata": {},
   "outputs": [
    {
     "data": {
      "text/plain": [
       "Text(0.5, 0, '$x$')"
      ]
     },
     "execution_count": 363,
     "metadata": {},
     "output_type": "execute_result"
    },
    {
     "data": {
      "image/png": "[encoded data removed]",
      "text/plain": [
       "<Figure size 1600x600 with 2 Axes>"
      ]
     },
     "metadata": {},
     "output_type": "display_data"
    }
   ],
   "source": [
    "nrows,ncols = 1,2\n",
    "py.figure(figsize=(8*ncols,6*nrows))\n",
    "\n",
    "ax=py.subplot(nrows,ncols,1)\n",
    "ax.plot(x_vals,ff3_bt_x(x_vals,torch.tensor(1)),'gray',label=r'$\\rm grid$')\n",
    "ax.plot(x_rand,akima_vals,'r*',label=r'$\\rm interpolated$')\n",
    "#ax.plot(xrand,tru_vals,'bs',label=r'$\\rm true$')\n",
    "\n",
    "ax.semilogy()\n",
    "\n",
    "ax.tick_params(direction='in',labelsize=18)\n",
    "ax.legend(fontsize=18)\n",
    "ax.set_xlabel(r'$x$',size=30)\n",
    "\n",
    "ax=py.subplot(nrows,ncols,2)\n",
    "ax.plot(xrand,torch.abs(int_vals-tru_vals)/tru_vals,'r.')\n",
    "# ax.semilogx()\n",
    "ax.semilogy()\n",
    "\n",
    "ax.tick_params(direction='in',labelsize=18)\n",
    "ax.set_xlabel(r'$x$',size=30)"
   ]
  },
  {
   "cell_type": "code",
   "execution_count": null,
   "id": "a2234e55-0a64-4347-87af-4dc6da1b716e",
   "metadata": {},
   "outputs": [],
   "source": []
  }
 ],
 "metadata": {
  "kernelspec": {
   "display_name": "Python 3 (ipykernel)",
   "language": "python",
   "name": "python3"
  },
  "language_info": {
   "codemirror_mode": {
    "name": "ipython",
    "version": 3
   },
   "file_extension": ".py",
   "mimetype": "text/x-python",
   "name": "python",
   "nbconvert_exporter": "python",
   "pygments_lexer": "ipython3",
   "version": "3.12.7"
  }
 },
 "nbformat": 4,
 "nbformat_minor": 5
}
