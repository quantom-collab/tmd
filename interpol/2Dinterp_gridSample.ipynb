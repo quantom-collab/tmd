{
 "cells": [
  {
   "cell_type": "code",
   "execution_count": 2,
   "id": "e262ff47-cc47-4b6b-80a7-8c424d368cad",
   "metadata": {},
   "outputs": [],
   "source": [
    "import torch\n",
    "torch.set_default_dtype(torch.float64)"
   ]
  },
  {
   "cell_type": "code",
   "execution_count": 3,
   "id": "87fecb46-ac81-4918-8dfe-cab199f9a35e",
   "metadata": {},
   "outputs": [],
   "source": [
    "samp_info=torch.load('/home/joey/Documents/TMD_Pheno/tmd/tables/OPE_info.pth',weights_only=False)\n",
    "samp_data=torch.load('/home/joey/Documents/TMD_Pheno/tmd/tables/OPE.pth', weights_only=False)"
   ]
  },
  {
   "cell_type": "code",
   "execution_count": 4,
   "id": "352b8911-5693-4183-ab0e-fd936a65bbb7",
   "metadata": {},
   "outputs": [],
   "source": [
    "bT_vals = torch.tensor(samp_info['bT'])\n",
    "x_vals = torch.tensor(samp_info['X'])"
   ]
  },
  {
   "cell_type": "code",
   "execution_count": 5,
   "id": "84cae227-1ffb-48e8-8363-3b932f834662",
   "metadata": {},
   "outputs": [],
   "source": [
    "gen_bT=torch.Generator()\n",
    "gen_bT.manual_seed(838916301)\n",
    "gen_X=torch.Generator()\n",
    "gen_X.manual_seed(927602420)\n",
    "bT_rand_sort, bT_rand_indices=torch.sort(torch.rand((10,100),generator=gen_bT)*(torch.log10(bT_vals[-1]/bT_vals[0]))+torch.log10(bT_vals[0]))\n",
    "bT_rand_sort_log =10**bT_rand_sort\n",
    "x_rand_sort, x_rand_indices = torch.sort(torch.rand((10),generator=gen_X)*(torch.log10(x_vals[-1]/x_vals[0]))+torch.log10(x_vals[0]))\n",
    "x_rand_sort_log = 10**x_rand_sort\n",
    "pixel_map_log = lambda val, original : (2 * torch.log10(val) - torch.log10(original[-1]*original[0])) / torch.log10(original[-1]/original[0])"
   ]
  },
  {
   "cell_type": "code",
   "execution_count": 6,
   "id": "c502ec34-b4f5-4327-874a-c78555a47a94",
   "metadata": {},
   "outputs": [],
   "source": [
    "x_mapped=pixel_map_log(x_rand_sort_log, x_vals)\n",
    "bT_mapped=pixel_map_log(bT_rand_sort_log, bT_vals)\n",
    "pixel_indices = torch.stack((torch.tile(x_mapped[:,None],(100,)), bT_mapped), dim=-1)[None,:].float()"
   ]
  },
  {
   "cell_type": "code",
   "execution_count": 7,
   "id": "dfa8fef4-442b-4882-9d68-f2fc73c740c3",
   "metadata": {},
   "outputs": [
    {
     "name": "stderr",
     "output_type": "stream",
     "text": [
      "/home/joey/anaconda3/envs/my_env/lib/python3.12/site-packages/torch/nn/functional.py:4902: UserWarning: Default grid_sample and affine_grid behavior has changed to align_corners=False since 1.3.0. Please specify align_corners=True if the old behavior is desired. See the documentation of grid_sample for details.\n",
      "  warnings.warn(\n"
     ]
    }
   ],
   "source": [
    "interp_data=torch.nn.functional.grid_sample(samp_data[None,:], pixel_indices, mode='bilinear')"
   ]
  },
  {
   "cell_type": "code",
   "execution_count": null,
   "id": "d52b71cd-f3f7-4d50-aaef-271e7e4a2e1e",
   "metadata": {},
   "outputs": [],
   "source": []
  }
 ],
 "metadata": {
  "kernelspec": {
   "display_name": "Python 3 (ipykernel)",
   "language": "python",
   "name": "python3"
  },
  "language_info": {
   "codemirror_mode": {
    "name": "ipython",
    "version": 3
   },
   "file_extension": ".py",
   "mimetype": "text/x-python",
   "name": "python",
   "nbconvert_exporter": "python",
   "pygments_lexer": "ipython3",
   "version": "3.12.7"
  }
 },
 "nbformat": 4,
 "nbformat_minor": 5
}
